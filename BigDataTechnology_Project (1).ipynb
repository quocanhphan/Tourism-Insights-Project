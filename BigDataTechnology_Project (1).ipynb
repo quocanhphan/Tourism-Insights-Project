{
  "nbformat": 4,
  "nbformat_minor": 0,
  "metadata": {
    "colab": {
      "provenance": [],
      "collapsed_sections": [
        "ZEJe-9BOIyuW",
        "UES4oda5wY71"
      ]
    },
    "kernelspec": {
      "name": "python3",
      "display_name": "Python 3"
    },
    "language_info": {
      "name": "python"
    }
  },
  "cells": [
    {
      "cell_type": "markdown",
      "source": [
        "## **Big Data Technology Project :  Identifying Top Destinations Using Flight Data and Apache Spark**\n",
        "\n",
        "Contributors:\n",
        "\n",
        "+ ITDSIU21001 - Phan Quốc Anh -\n",
        "\n",
        "+ ITDSIU21067 - Nguyễn Quốc Huy -"
      ],
      "metadata": {
        "id": "_KxfjWNPyNhf"
      }
    },
    {
      "cell_type": "markdown",
      "source": [
        "# **Import data using Kaggle** #"
      ],
      "metadata": {
        "id": "ZEJe-9BOIyuW"
      }
    },
    {
      "cell_type": "markdown",
      "source": [
        "Get Your Kaggle API Key\n",
        "\n",
        "- Log in to your Kaggle account.\n",
        "- Go to Account Settings (you'll need to be logged in).\n",
        "- Scroll to the API section and click Create New API Token.\n",
        "  - This will download a file named kaggle.json to your computer."
      ],
      "metadata": {
        "id": "YLK2QeOOWMwi"
      }
    },
    {
      "cell_type": "markdown",
      "source": [
        "Upload kaggle.json to Colab"
      ],
      "metadata": {
        "id": "CbhQ1NpsWXPf"
      }
    },
    {
      "cell_type": "code",
      "source": [
        "from google.colab import files\n",
        "files.upload()  # Select the kaggle.json file\n"
      ],
      "metadata": {
        "colab": {
          "base_uri": "https://localhost:8080/",
          "height": 89
        },
        "id": "Hxa5g38QI1oo",
        "outputId": "fb290ef2-5e9f-4b95-bfa5-12bb69bf35b2"
      },
      "execution_count": null,
      "outputs": [
        {
          "output_type": "display_data",
          "data": {
            "text/plain": [
              "<IPython.core.display.HTML object>"
            ],
            "text/html": [
              "\n",
              "     <input type=\"file\" id=\"files-98118b74-00c7-4fb9-a282-a923bc8fe112\" name=\"files[]\" multiple disabled\n",
              "        style=\"border:none\" />\n",
              "     <output id=\"result-98118b74-00c7-4fb9-a282-a923bc8fe112\">\n",
              "      Upload widget is only available when the cell has been executed in the\n",
              "      current browser session. Please rerun this cell to enable.\n",
              "      </output>\n",
              "      <script>// Copyright 2017 Google LLC\n",
              "//\n",
              "// Licensed under the Apache License, Version 2.0 (the \"License\");\n",
              "// you may not use this file except in compliance with the License.\n",
              "// You may obtain a copy of the License at\n",
              "//\n",
              "//      http://www.apache.org/licenses/LICENSE-2.0\n",
              "//\n",
              "// Unless required by applicable law or agreed to in writing, software\n",
              "// distributed under the License is distributed on an \"AS IS\" BASIS,\n",
              "// WITHOUT WARRANTIES OR CONDITIONS OF ANY KIND, either express or implied.\n",
              "// See the License for the specific language governing permissions and\n",
              "// limitations under the License.\n",
              "\n",
              "/**\n",
              " * @fileoverview Helpers for google.colab Python module.\n",
              " */\n",
              "(function(scope) {\n",
              "function span(text, styleAttributes = {}) {\n",
              "  const element = document.createElement('span');\n",
              "  element.textContent = text;\n",
              "  for (const key of Object.keys(styleAttributes)) {\n",
              "    element.style[key] = styleAttributes[key];\n",
              "  }\n",
              "  return element;\n",
              "}\n",
              "\n",
              "// Max number of bytes which will be uploaded at a time.\n",
              "const MAX_PAYLOAD_SIZE = 100 * 1024;\n",
              "\n",
              "function _uploadFiles(inputId, outputId) {\n",
              "  const steps = uploadFilesStep(inputId, outputId);\n",
              "  const outputElement = document.getElementById(outputId);\n",
              "  // Cache steps on the outputElement to make it available for the next call\n",
              "  // to uploadFilesContinue from Python.\n",
              "  outputElement.steps = steps;\n",
              "\n",
              "  return _uploadFilesContinue(outputId);\n",
              "}\n",
              "\n",
              "// This is roughly an async generator (not supported in the browser yet),\n",
              "// where there are multiple asynchronous steps and the Python side is going\n",
              "// to poll for completion of each step.\n",
              "// This uses a Promise to block the python side on completion of each step,\n",
              "// then passes the result of the previous step as the input to the next step.\n",
              "function _uploadFilesContinue(outputId) {\n",
              "  const outputElement = document.getElementById(outputId);\n",
              "  const steps = outputElement.steps;\n",
              "\n",
              "  const next = steps.next(outputElement.lastPromiseValue);\n",
              "  return Promise.resolve(next.value.promise).then((value) => {\n",
              "    // Cache the last promise value to make it available to the next\n",
              "    // step of the generator.\n",
              "    outputElement.lastPromiseValue = value;\n",
              "    return next.value.response;\n",
              "  });\n",
              "}\n",
              "\n",
              "/**\n",
              " * Generator function which is called between each async step of the upload\n",
              " * process.\n",
              " * @param {string} inputId Element ID of the input file picker element.\n",
              " * @param {string} outputId Element ID of the output display.\n",
              " * @return {!Iterable<!Object>} Iterable of next steps.\n",
              " */\n",
              "function* uploadFilesStep(inputId, outputId) {\n",
              "  const inputElement = document.getElementById(inputId);\n",
              "  inputElement.disabled = false;\n",
              "\n",
              "  const outputElement = document.getElementById(outputId);\n",
              "  outputElement.innerHTML = '';\n",
              "\n",
              "  const pickedPromise = new Promise((resolve) => {\n",
              "    inputElement.addEventListener('change', (e) => {\n",
              "      resolve(e.target.files);\n",
              "    });\n",
              "  });\n",
              "\n",
              "  const cancel = document.createElement('button');\n",
              "  inputElement.parentElement.appendChild(cancel);\n",
              "  cancel.textContent = 'Cancel upload';\n",
              "  const cancelPromise = new Promise((resolve) => {\n",
              "    cancel.onclick = () => {\n",
              "      resolve(null);\n",
              "    };\n",
              "  });\n",
              "\n",
              "  // Wait for the user to pick the files.\n",
              "  const files = yield {\n",
              "    promise: Promise.race([pickedPromise, cancelPromise]),\n",
              "    response: {\n",
              "      action: 'starting',\n",
              "    }\n",
              "  };\n",
              "\n",
              "  cancel.remove();\n",
              "\n",
              "  // Disable the input element since further picks are not allowed.\n",
              "  inputElement.disabled = true;\n",
              "\n",
              "  if (!files) {\n",
              "    return {\n",
              "      response: {\n",
              "        action: 'complete',\n",
              "      }\n",
              "    };\n",
              "  }\n",
              "\n",
              "  for (const file of files) {\n",
              "    const li = document.createElement('li');\n",
              "    li.append(span(file.name, {fontWeight: 'bold'}));\n",
              "    li.append(span(\n",
              "        `(${file.type || 'n/a'}) - ${file.size} bytes, ` +\n",
              "        `last modified: ${\n",
              "            file.lastModifiedDate ? file.lastModifiedDate.toLocaleDateString() :\n",
              "                                    'n/a'} - `));\n",
              "    const percent = span('0% done');\n",
              "    li.appendChild(percent);\n",
              "\n",
              "    outputElement.appendChild(li);\n",
              "\n",
              "    const fileDataPromise = new Promise((resolve) => {\n",
              "      const reader = new FileReader();\n",
              "      reader.onload = (e) => {\n",
              "        resolve(e.target.result);\n",
              "      };\n",
              "      reader.readAsArrayBuffer(file);\n",
              "    });\n",
              "    // Wait for the data to be ready.\n",
              "    let fileData = yield {\n",
              "      promise: fileDataPromise,\n",
              "      response: {\n",
              "        action: 'continue',\n",
              "      }\n",
              "    };\n",
              "\n",
              "    // Use a chunked sending to avoid message size limits. See b/62115660.\n",
              "    let position = 0;\n",
              "    do {\n",
              "      const length = Math.min(fileData.byteLength - position, MAX_PAYLOAD_SIZE);\n",
              "      const chunk = new Uint8Array(fileData, position, length);\n",
              "      position += length;\n",
              "\n",
              "      const base64 = btoa(String.fromCharCode.apply(null, chunk));\n",
              "      yield {\n",
              "        response: {\n",
              "          action: 'append',\n",
              "          file: file.name,\n",
              "          data: base64,\n",
              "        },\n",
              "      };\n",
              "\n",
              "      let percentDone = fileData.byteLength === 0 ?\n",
              "          100 :\n",
              "          Math.round((position / fileData.byteLength) * 100);\n",
              "      percent.textContent = `${percentDone}% done`;\n",
              "\n",
              "    } while (position < fileData.byteLength);\n",
              "  }\n",
              "\n",
              "  // All done.\n",
              "  yield {\n",
              "    response: {\n",
              "      action: 'complete',\n",
              "    }\n",
              "  };\n",
              "}\n",
              "\n",
              "scope.google = scope.google || {};\n",
              "scope.google.colab = scope.google.colab || {};\n",
              "scope.google.colab._files = {\n",
              "  _uploadFiles,\n",
              "  _uploadFilesContinue,\n",
              "};\n",
              "})(self);\n",
              "</script> "
            ]
          },
          "metadata": {}
        },
        {
          "output_type": "stream",
          "name": "stdout",
          "text": [
            "Saving kaggle.json to kaggle.json\n"
          ]
        },
        {
          "output_type": "execute_result",
          "data": {
            "text/plain": [
              "{'kaggle.json': b'{\"username\":\"aaronphan18\",\"key\":\"4e67898ebaddee3ebc45085bb89b6cc3\"}'}"
            ]
          },
          "metadata": {},
          "execution_count": 2
        }
      ]
    },
    {
      "cell_type": "markdown",
      "source": [
        "Configure Kaggle API"
      ],
      "metadata": {
        "id": "wpDgj7YZJIFx"
      }
    },
    {
      "cell_type": "code",
      "source": [
        "!mkdir ~/.kaggle\n",
        "!mv kaggle.json ~/.kaggle/\n",
        "!chmod 600 ~/.kaggle/kaggle.json  # Set permissions"
      ],
      "metadata": {
        "id": "kYsT_bdXI5DD"
      },
      "execution_count": null,
      "outputs": []
    },
    {
      "cell_type": "code",
      "source": [
        "!kaggle datasets list\n"
      ],
      "metadata": {
        "colab": {
          "base_uri": "https://localhost:8080/"
        },
        "id": "bwYLPV7kJMuJ",
        "outputId": "141f863f-6b97-4d3a-b997-1901f522ac8a"
      },
      "execution_count": null,
      "outputs": [
        {
          "output_type": "stream",
          "name": "stdout",
          "text": [
            "ref                                                                    title                                                size  lastUpdated          downloadCount  voteCount  usabilityRating  \n",
            "---------------------------------------------------------------------  --------------------------------------------------  -----  -------------------  -------------  ---------  ---------------  \n",
            "bhadramohit/customer-shopping-latest-trends-dataset                    Customer Shopping (Latest Trends) Dataset            76KB  2024-11-23 15:26:12          14255        276  1.0              \n",
            "hopesb/student-depression-dataset                                      Student Depression Dataset.                         454KB  2024-11-22 17:56:03          10970        142  1.0              \n",
            "chadwambles/supermarket-sales                                          SuperMarket Sales                                    36KB  2024-12-17 23:35:52           1346         26  0.88235295       \n",
            "adarsh0806/influencer-merchandise-sales                                Global Retail Sales Data: Orders, Reviews & Trends  122KB  2024-12-10 14:07:52           1151         24  1.0              \n",
            "denkuznetz/traffic-accident-prediction                                 Traffic Accident Prediction 💥🚗                       10KB  2024-12-11 11:04:47           1593         31  1.0              \n",
            "rashminslnk/youtube-subscribers-data-2024                              Youtube Subscribers Data 2024                         1KB  2024-12-06 12:10:46           1281         27  1.0              \n",
            "jamiedcollins/hjsjdjdjdjd                                              Apple Financials 2009-2024                            1KB  2024-12-08 11:51:48           1527         28  1.0              \n",
            "mujtabamatin/air-quality-and-pollution-assessment                      Air Quality and Pollution Assessment                 84KB  2024-12-04 15:29:51           5324         88  1.0              \n",
            "marthadimgba/online-shop-2024                                          🛒 Online Shop 2024                                  901KB  2024-12-08 02:51:47           1120         28  1.0              \n",
            "gauthamvijayaraj/spotify-tracks-dataset-updated-every-week             Spotify Tracks Dataset (Updated every week)           5MB  2024-12-09 18:00:01           2138         41  1.0              \n",
            "denkuznetz/taxi-price-prediction                                       Taxi Price Regression 🚕                              20KB  2024-12-13 09:29:17           1753         34  1.0              \n",
            "jeleeladekunlefijabi/ship-fuel-consumption-and-co2-emissions-analysis  Ship Fuel Consumption & CO2 Emissions Analysis       30KB  2024-12-15 13:36:56            672         29  1.0              \n",
            "malaiarasugraj/global-health-statistics                                Global Health Statistics                             44MB  2024-11-27 10:52:27           4404         51  1.0              \n",
            "steve1215rogg/e-commerce-dataset                                       E-Commerce Dataset                                   90KB  2024-11-22 22:10:02           5060         65  1.0              \n",
            "steve1215rogg/student-lifestyle-dataset                                student lifestyle dataset                            22KB  2024-11-11 19:11:28          12374        161  1.0              \n",
            "imtkaggleteam/agriculture-dataset-karnataka                            Agriculture dataset | Karnataka                      41KB  2024-12-16 09:07:02            427         35  1.0              \n",
            "subhajournal/movie-rating                                              Rotten Tomatoes Movie Rating                         10MB  2024-11-17 13:37:15           1200         26  1.0              \n",
            "denkuznetz/housing-prices-regression                                   Housing Prices Regression 🏘️                         24KB  2024-12-10 15:44:34           1580         28  1.0              \n",
            "zafarali27/netflix-movies-and-tv-shows                                 Netflix Movies and TV Shows                          28KB  2024-11-23 07:53:10           3321         60  1.0              \n",
            "imranalishahh/sales-and-customer-insights                              Sales and Customer Insights Dataset                 401KB  2024-12-08 08:50:13           1286         27  1.0              \n"
          ]
        }
      ]
    },
    {
      "cell_type": "markdown",
      "source": [
        "Download the Dataset"
      ],
      "metadata": {
        "id": "whB9WlM8JUcW"
      }
    },
    {
      "cell_type": "code",
      "source": [
        "!kaggle datasets download -d patrickzel/flight-delay-and-cancellation-dataset-2019-2023\n"
      ],
      "metadata": {
        "colab": {
          "base_uri": "https://localhost:8080/"
        },
        "id": "WtKkMbYXJUqI",
        "outputId": "14c9547d-cfcb-4dd1-c653-a4dfae6861dd"
      },
      "execution_count": null,
      "outputs": [
        {
          "output_type": "stream",
          "name": "stdout",
          "text": [
            "Dataset URL: https://www.kaggle.com/datasets/patrickzel/flight-delay-and-cancellation-dataset-2019-2023\n",
            "License(s): other\n",
            "Downloading flight-delay-and-cancellation-dataset-2019-2023.zip to /content\n",
            " 97% 136M/140M [00:03<00:00, 72.2MB/s]\n",
            "100% 140M/140M [00:03<00:00, 48.3MB/s]\n"
          ]
        }
      ]
    },
    {
      "cell_type": "code",
      "source": [
        "!unzip flight-delay-and-cancellation-dataset-2019-2023.zip\n"
      ],
      "metadata": {
        "colab": {
          "base_uri": "https://localhost:8080/"
        },
        "id": "vwlvBUFCJX0B",
        "outputId": "404f30a6-37f3-435d-def0-f675485165b6"
      },
      "execution_count": null,
      "outputs": [
        {
          "output_type": "stream",
          "name": "stdout",
          "text": [
            "Archive:  flight-delay-and-cancellation-dataset-2019-2023.zip\n",
            "  inflating: dictionary.html         \n",
            "  inflating: flights_sample_3m.csv   \n"
          ]
        }
      ]
    },
    {
      "cell_type": "markdown",
      "source": [
        "Load Dataset into PySpark"
      ],
      "metadata": {
        "id": "9JbEtG0mJizX"
      }
    },
    {
      "cell_type": "code",
      "source": [
        "from pyspark.sql import SparkSession"
      ],
      "metadata": {
        "id": "OXT0tnr3IJ1f"
      },
      "execution_count": null,
      "outputs": []
    },
    {
      "cell_type": "code",
      "source": [
        "!ls\n"
      ],
      "metadata": {
        "colab": {
          "base_uri": "https://localhost:8080/"
        },
        "id": "ZhKpozAvW5Fo",
        "outputId": "967c1a38-2d92-4ed4-ff52-b0f0f935e68e"
      },
      "execution_count": null,
      "outputs": [
        {
          "output_type": "stream",
          "name": "stdout",
          "text": [
            "dictionary.html\t\t\t\t\t     flights_sample_3m.csv\n",
            "flight-delay-and-cancellation-dataset-2019-2023.zip  sample_data\n"
          ]
        }
      ]
    },
    {
      "cell_type": "code",
      "source": [
        "spark = SparkSession.builder.appName(\"Tourism Insights\").getOrCreate()\n",
        "\n",
        "flights_df = spark.read.csv(\"flights_sample_3m.csv\", header=True, inferSchema=True)\n",
        "\n",
        "flights_df.printSchema()"
      ],
      "metadata": {
        "colab": {
          "base_uri": "https://localhost:8080/"
        },
        "id": "L3wNMgJYX7RJ",
        "outputId": "29fa7a58-06a2-4c4b-ac6e-530250682968"
      },
      "execution_count": null,
      "outputs": [
        {
          "output_type": "stream",
          "name": "stdout",
          "text": [
            "root\n",
            " |-- FL_DATE: date (nullable = true)\n",
            " |-- AIRLINE: string (nullable = true)\n",
            " |-- AIRLINE_DOT: string (nullable = true)\n",
            " |-- AIRLINE_CODE: string (nullable = true)\n",
            " |-- DOT_CODE: integer (nullable = true)\n",
            " |-- FL_NUMBER: integer (nullable = true)\n",
            " |-- ORIGIN: string (nullable = true)\n",
            " |-- ORIGIN_CITY: string (nullable = true)\n",
            " |-- DEST: string (nullable = true)\n",
            " |-- DEST_CITY: string (nullable = true)\n",
            " |-- CRS_DEP_TIME: integer (nullable = true)\n",
            " |-- DEP_TIME: double (nullable = true)\n",
            " |-- DEP_DELAY: double (nullable = true)\n",
            " |-- TAXI_OUT: double (nullable = true)\n",
            " |-- WHEELS_OFF: double (nullable = true)\n",
            " |-- WHEELS_ON: double (nullable = true)\n",
            " |-- TAXI_IN: double (nullable = true)\n",
            " |-- CRS_ARR_TIME: integer (nullable = true)\n",
            " |-- ARR_TIME: double (nullable = true)\n",
            " |-- ARR_DELAY: double (nullable = true)\n",
            " |-- CANCELLED: double (nullable = true)\n",
            " |-- CANCELLATION_CODE: string (nullable = true)\n",
            " |-- DIVERTED: double (nullable = true)\n",
            " |-- CRS_ELAPSED_TIME: double (nullable = true)\n",
            " |-- ELAPSED_TIME: double (nullable = true)\n",
            " |-- AIR_TIME: double (nullable = true)\n",
            " |-- DISTANCE: double (nullable = true)\n",
            " |-- DELAY_DUE_CARRIER: double (nullable = true)\n",
            " |-- DELAY_DUE_WEATHER: double (nullable = true)\n",
            " |-- DELAY_DUE_NAS: double (nullable = true)\n",
            " |-- DELAY_DUE_SECURITY: double (nullable = true)\n",
            " |-- DELAY_DUE_LATE_AIRCRAFT: double (nullable = true)\n",
            "\n"
          ]
        }
      ]
    },
    {
      "cell_type": "code",
      "source": [
        "# show the first 10 rows of the DataFrame\n",
        "flights_df.show(10)\n"
      ],
      "metadata": {
        "colab": {
          "base_uri": "https://localhost:8080/"
        },
        "id": "OyZsvoyefXOi",
        "outputId": "26abd333-5468-4d3d-a5b8-9c51f6241b3e"
      },
      "execution_count": null,
      "outputs": [
        {
          "output_type": "stream",
          "name": "stdout",
          "text": [
            "+----------+--------------------+--------------------+------------+--------+---------+------+-------------------+----+--------------------+------------+--------+---------+--------+----------+---------+-------+------------+--------+---------+---------+-----------------+--------+----------------+------------+--------+--------+-----------------+-----------------+-------------+------------------+-----------------------+\n",
            "|   FL_DATE|             AIRLINE|         AIRLINE_DOT|AIRLINE_CODE|DOT_CODE|FL_NUMBER|ORIGIN|        ORIGIN_CITY|DEST|           DEST_CITY|CRS_DEP_TIME|DEP_TIME|DEP_DELAY|TAXI_OUT|WHEELS_OFF|WHEELS_ON|TAXI_IN|CRS_ARR_TIME|ARR_TIME|ARR_DELAY|CANCELLED|CANCELLATION_CODE|DIVERTED|CRS_ELAPSED_TIME|ELAPSED_TIME|AIR_TIME|DISTANCE|DELAY_DUE_CARRIER|DELAY_DUE_WEATHER|DELAY_DUE_NAS|DELAY_DUE_SECURITY|DELAY_DUE_LATE_AIRCRAFT|\n",
            "+----------+--------------------+--------------------+------------+--------+---------+------+-------------------+----+--------------------+------------+--------+---------+--------+----------+---------+-------+------------+--------+---------+---------+-----------------+--------+----------------+------------+--------+--------+-----------------+-----------------+-------------+------------------+-----------------------+\n",
            "|2019-01-09|United Air Lines ...|United Air Lines ...|          UA|   19977|     1562|   FLL|Fort Lauderdale, FL| EWR|          Newark, NJ|        1155|  1151.0|     -4.0|    19.0|    1210.0|   1443.0|    4.0|        1501|  1447.0|    -14.0|      0.0|             NULL|     0.0|           186.0|       176.0|   153.0|  1065.0|             NULL|             NULL|         NULL|              NULL|                   NULL|\n",
            "|2022-11-19|Delta Air Lines Inc.|Delta Air Lines I...|          DL|   19790|     1149|   MSP|    Minneapolis, MN| SEA|         Seattle, WA|        2120|  2114.0|     -6.0|     9.0|    2123.0|   2232.0|   38.0|        2315|  2310.0|     -5.0|      0.0|             NULL|     0.0|           235.0|       236.0|   189.0|  1399.0|             NULL|             NULL|         NULL|              NULL|                   NULL|\n",
            "|2022-07-22|United Air Lines ...|United Air Lines ...|          UA|   19977|      459|   DEN|         Denver, CO| MSP|     Minneapolis, MN|         954|  1000.0|      6.0|    20.0|    1020.0|   1247.0|    5.0|        1252|  1252.0|      0.0|      0.0|             NULL|     0.0|           118.0|       112.0|    87.0|   680.0|             NULL|             NULL|         NULL|              NULL|                   NULL|\n",
            "|2023-03-06|Delta Air Lines Inc.|Delta Air Lines I...|          DL|   19790|     2295|   MSP|    Minneapolis, MN| SFO|   San Francisco, CA|        1609|  1608.0|     -1.0|    27.0|    1635.0|   1844.0|    9.0|        1829|  1853.0|     24.0|      0.0|             NULL|     0.0|           260.0|       285.0|   249.0|  1589.0|              0.0|              0.0|         24.0|               0.0|                    0.0|\n",
            "|2020-02-23|    Spirit Air Lines|Spirit Air Lines: NK|          NK|   20416|      407|   MCO|        Orlando, FL| DFW|Dallas/Fort Worth...|        1840|  1838.0|     -2.0|    15.0|    1853.0|   2026.0|   14.0|        2041|  2040.0|     -1.0|      0.0|             NULL|     0.0|           181.0|       182.0|   153.0|   985.0|             NULL|             NULL|         NULL|              NULL|                   NULL|\n",
            "|2019-07-31|Southwest Airline...|Southwest Airline...|          WN|   19393|      665|   DAL|         Dallas, TX| OKC|   Oklahoma City, OK|        1010|  1237.0|    147.0|    15.0|    1252.0|   1328.0|    3.0|        1110|  1331.0|    141.0|      0.0|             NULL|     0.0|            60.0|        54.0|    36.0|   181.0|            141.0|              0.0|          0.0|               0.0|                    0.0|\n",
            "|2023-06-11|American Airlines...|American Airlines...|          AA|   19805|     2134|   DCA|     Washington, DC| BOS|          Boston, MA|        1010|  1001.0|     -9.0|    23.0|    1024.0|   1122.0|    8.0|        1159|  1130.0|    -29.0|      0.0|             NULL|     0.0|           109.0|        89.0|    58.0|   399.0|             NULL|             NULL|         NULL|              NULL|                   NULL|\n",
            "|2019-07-08|    Republic Airline|Republic Airline: YX|          YX|   20452|     4464|   HSV|     Huntsville, AL| DCA|      Washington, DC|        1643|  1637.0|     -6.0|    22.0|    1659.0|   1927.0|   41.0|        1945|  2008.0|     23.0|      0.0|             NULL|     0.0|           122.0|       151.0|    88.0|   613.0|              0.0|              0.0|         23.0|               0.0|                    0.0|\n",
            "|2023-02-12|    Spirit Air Lines|Spirit Air Lines: NK|          NK|   20416|      590|   IAH|        Houston, TX| LAX|     Los Angeles, CA|         530|   527.0|     -3.0|    11.0|     538.0|    658.0|    8.0|         717|   706.0|    -11.0|      0.0|             NULL|     0.0|           227.0|       219.0|   200.0|  1379.0|             NULL|             NULL|         NULL|              NULL|                   NULL|\n",
            "|2020-08-22|Alaska Airlines Inc.|Alaska Airlines I...|          AS|   19930|      223|   SEA|        Seattle, WA| FAI|       Fairbanks, AK|        2125|  2116.0|     -9.0|    19.0|    2135.0|   2353.0|    3.0|        2355|  2356.0|      1.0|      0.0|             NULL|     0.0|           210.0|       220.0|   198.0|  1533.0|             NULL|             NULL|         NULL|              NULL|                   NULL|\n",
            "+----------+--------------------+--------------------+------------+--------+---------+------+-------------------+----+--------------------+------------+--------+---------+--------+----------+---------+-------+------------+--------+---------+---------+-----------------+--------+----------------+------------+--------+--------+-----------------+-----------------+-------------+------------------+-----------------------+\n",
            "only showing top 10 rows\n",
            "\n"
          ]
        }
      ]
    },
    {
      "cell_type": "markdown",
      "source": [
        "# **DATA PREPROCESSING** #"
      ],
      "metadata": {
        "id": "UES4oda5wY71"
      }
    },
    {
      "cell_type": "markdown",
      "source": [],
      "metadata": {
        "id": "xEpclGH1wd32"
      }
    },
    {
      "cell_type": "code",
      "source": [
        "from pyspark.sql import SparkSession\n",
        "from pyspark.sql.functions import col, when, concat_ws, month, year, lit"
      ],
      "metadata": {
        "id": "xSIAasu2wdXo"
      },
      "execution_count": null,
      "outputs": []
    },
    {
      "cell_type": "code",
      "source": [
        "# Start Spark Session\n",
        "spark = SparkSession.builder.appName(\"Flight Data Preprocessing\").getOrCreate()\n",
        "\n",
        "# Load the dataset\n",
        "flights_df = spark.read.csv(\"flights_sample_3m.csv\", header=True, inferSchema=True)"
      ],
      "metadata": {
        "id": "TPWo3qj6wlKo"
      },
      "execution_count": null,
      "outputs": []
    },
    {
      "cell_type": "code",
      "source": [
        "# Drop rows with critical missing values (e.g., ORIGIN, DEST, FL_DATE)\n",
        "flights_cleaned = flights_df.dropna(subset=[\"ORIGIN\", \"DEST\", \"FL_DATE\"])"
      ],
      "metadata": {
        "id": "7gLC0W32wvb6"
      },
      "execution_count": null,
      "outputs": []
    },
    {
      "cell_type": "markdown",
      "source": [
        "Step 1: Feature Engineering"
      ],
      "metadata": {
        "id": "mrwKJpTVwzCG"
      }
    },
    {
      "cell_type": "code",
      "source": [
        "# Create ROUTE column combining ORIGIN and DEST\n",
        "flights_cleaned = flights_cleaned.withColumn(\"ROUTE\", concat_ws(\" -> \", col(\"ORIGIN\"), col(\"DEST\")))"
      ],
      "metadata": {
        "id": "-iNYfph3wxsR"
      },
      "execution_count": null,
      "outputs": []
    },
    {
      "cell_type": "code",
      "source": [
        "# Extract Month and Year from FL_DATE\n",
        "flights_cleaned = flights_cleaned.withColumn(\"Month\", month(col(\"FL_DATE\")))\n",
        "flights_cleaned = flights_cleaned.withColumn(\"Year\", year(col(\"FL_DATE\")))"
      ],
      "metadata": {
        "id": "6vIPBqM5w2fh"
      },
      "execution_count": null,
      "outputs": []
    },
    {
      "cell_type": "markdown",
      "source": [
        "Step 2: Delays - Categorizing and Handling Negative Values"
      ],
      "metadata": {
        "id": "q9imvmcexGLV"
      }
    },
    {
      "cell_type": "code",
      "source": [
        "# Create a binary column IS_DELAYED (1 if ARR_DELAY > 15 minutes, else 0)\n",
        "flights_cleaned = flights_cleaned.withColumn(\"IS_DELAYED\", when(col(\"ARR_DELAY\") > 15, 1).otherwise(0))\n",
        "\n",
        "# Replace negative values in DEP_DELAY and ARR_DELAY with 0 (assuming negative delays imply on-time)\n",
        "flights_cleaned = flights_cleaned.withColumn(\"DEP_DELAY\", when(col(\"DEP_DELAY\") < 0, 0).otherwise(col(\"DEP_DELAY\")))\n",
        "flights_cleaned = flights_cleaned.withColumn(\"ARR_DELAY\", when(col(\"ARR_DELAY\") < 0, 0).otherwise(col(\"ARR_DELAY\")))"
      ],
      "metadata": {
        "id": "kYFhIagyxFRP"
      },
      "execution_count": null,
      "outputs": []
    },
    {
      "cell_type": "markdown",
      "source": [
        "Step 3: Distance - Handle Outliers"
      ],
      "metadata": {
        "id": "jptbUhV6xJIj"
      }
    },
    {
      "cell_type": "code",
      "source": [
        "# Remove rows with zero or negative distance values\n",
        "flights_cleaned = flights_cleaned.filter(col(\"DISTANCE\") > 0)"
      ],
      "metadata": {
        "id": "dGcIEI7_xIza"
      },
      "execution_count": null,
      "outputs": []
    },
    {
      "cell_type": "markdown",
      "source": [
        "Step 4: Cancelled and Diverted Flights"
      ],
      "metadata": {
        "id": "QzW1CtObxL2L"
      }
    },
    {
      "cell_type": "code",
      "source": [
        "# Create a column FLIGHT_STATUS: \"Cancelled\", \"Diverted\", or \"Completed\"\n",
        "flights_cleaned = flights_cleaned.withColumn(\n",
        "    \"FLIGHT_STATUS\",\n",
        "    when(col(\"CANCELLED\") == 1, \"Cancelled\")\n",
        "    .when(col(\"DIVERTED\") == 1, \"Diverted\")\n",
        "    .otherwise(\"Completed\")\n",
        ")\n"
      ],
      "metadata": {
        "id": "_aBKVhNxxMW-"
      },
      "execution_count": null,
      "outputs": []
    },
    {
      "cell_type": "markdown",
      "source": [
        "Step 5: Time Features"
      ],
      "metadata": {
        "id": "GqJ1XDnaxQEo"
      }
    },
    {
      "cell_type": "code",
      "source": [
        "# Calculate Total Taxi Time (TAXI_OUT + TAXI_IN)\n",
        "flights_cleaned = flights_cleaned.withColumn(\"TAXI_TIME\", col(\"TAXI_OUT\") + col(\"TAXI_IN\"))\n",
        "\n",
        "# Calculate Elapsed Time Discrepancy (ELAPSED_TIME - CRS_ELAPSED_TIME)\n",
        "flights_cleaned = flights_cleaned.withColumn(\n",
        "    \"ELAPSED_TIME_DISCREPANCY\",\n",
        "    col(\"ELAPSED_TIME\") - col(\"CRS_ELAPSED_TIME\")\n",
        ")\n",
        "\n",
        "# Display result to verify\n",
        "flights_cleaned.select(\"TAXI_TIME\", \"ELAPSED_TIME_DISCREPANCY\").show(10)\n"
      ],
      "metadata": {
        "colab": {
          "base_uri": "https://localhost:8080/"
        },
        "id": "Z7BGWul9x2p_",
        "outputId": "45950bf2-c474-4c1c-a745-7ec5c5893165"
      },
      "execution_count": null,
      "outputs": [
        {
          "output_type": "stream",
          "name": "stdout",
          "text": [
            "+---------+------------------------+\n",
            "|TAXI_TIME|ELAPSED_TIME_DISCREPANCY|\n",
            "+---------+------------------------+\n",
            "|     23.0|                   -10.0|\n",
            "|     47.0|                     1.0|\n",
            "|     25.0|                    -6.0|\n",
            "|     36.0|                    25.0|\n",
            "|     29.0|                     1.0|\n",
            "|     18.0|                    -6.0|\n",
            "|     31.0|                   -20.0|\n",
            "|     63.0|                    29.0|\n",
            "|     19.0|                    -8.0|\n",
            "|     22.0|                    10.0|\n",
            "+---------+------------------------+\n",
            "only showing top 10 rows\n",
            "\n"
          ]
        }
      ]
    },
    {
      "cell_type": "markdown",
      "source": [
        "Step 6: Fill Missing Values for Delay Reasons"
      ],
      "metadata": {
        "id": "Un9BkJXqxX9M"
      }
    },
    {
      "cell_type": "code",
      "source": [
        "# Replace null values in delay reason columns with 0\n",
        "delay_columns = [\n",
        "    \"DELAY_DUE_CARRIER\",\n",
        "    \"DELAY_DUE_WEATHER\",\n",
        "    \"DELAY_DUE_NAS\",\n",
        "    \"DELAY_DUE_SECURITY\",\n",
        "    \"DELAY_DUE_LATE_AIRCRAFT\",\n",
        "]\n",
        "\n",
        "for delay_col in delay_columns:\n",
        "    flights_cleaned = flights_cleaned.withColumn(delay_col, when(col(delay_col).isNull(), 0).otherwise(col(delay_col)))\n",
        "\n",
        "# Display results to verify changes\n",
        "flights_cleaned.select(delay_columns).show(10)\n"
      ],
      "metadata": {
        "colab": {
          "base_uri": "https://localhost:8080/"
        },
        "id": "irsz8qg7ygcI",
        "outputId": "42a664b6-97f9-4136-dbb5-4d6d48d93a3d"
      },
      "execution_count": null,
      "outputs": [
        {
          "output_type": "stream",
          "name": "stdout",
          "text": [
            "+-----------------+-----------------+-------------+------------------+-----------------------+\n",
            "|DELAY_DUE_CARRIER|DELAY_DUE_WEATHER|DELAY_DUE_NAS|DELAY_DUE_SECURITY|DELAY_DUE_LATE_AIRCRAFT|\n",
            "+-----------------+-----------------+-------------+------------------+-----------------------+\n",
            "|              0.0|              0.0|          0.0|               0.0|                    0.0|\n",
            "|              0.0|              0.0|          0.0|               0.0|                    0.0|\n",
            "|              0.0|              0.0|          0.0|               0.0|                    0.0|\n",
            "|              0.0|              0.0|         24.0|               0.0|                    0.0|\n",
            "|              0.0|              0.0|          0.0|               0.0|                    0.0|\n",
            "|            141.0|              0.0|          0.0|               0.0|                    0.0|\n",
            "|              0.0|              0.0|          0.0|               0.0|                    0.0|\n",
            "|              0.0|              0.0|         23.0|               0.0|                    0.0|\n",
            "|              0.0|              0.0|          0.0|               0.0|                    0.0|\n",
            "|              0.0|              0.0|          0.0|               0.0|                    0.0|\n",
            "+-----------------+-----------------+-------------+------------------+-----------------------+\n",
            "only showing top 10 rows\n",
            "\n"
          ]
        }
      ]
    },
    {
      "cell_type": "markdown",
      "source": [
        "Step 7: Remove Unnecessary Columns"
      ],
      "metadata": {
        "id": "Urlj7ZChynfb"
      }
    },
    {
      "cell_type": "code",
      "source": [
        "# Drop columns that may not be needed for analysis\n",
        "columns_to_drop = [\n",
        "    \"CancellationCode\",  # Reason for cancellation is not part of the main analysis\n",
        "    \"DOT_ID_Reporting_Airline\",  # Redundant with AIRLINE_CODE\n",
        "]\n",
        "flights_cleaned = flights_cleaned.drop(*columns_to_drop)"
      ],
      "metadata": {
        "id": "8gQ26_t2yn5M"
      },
      "execution_count": null,
      "outputs": []
    },
    {
      "cell_type": "markdown",
      "source": [
        "Step 8: Save Preprocessed Data"
      ],
      "metadata": {
        "id": "WrfaAEV9ys42"
      }
    },
    {
      "cell_type": "code",
      "source": [
        "# Save the cleaned data to a new file for later use\n",
        "flights_cleaned.write.mode(\"overwrite\").parquet(\"flights_cleaned.parquet\")\n",
        "\n",
        "# Display Preprocessed Data\n",
        "flights_cleaned.show(10)"
      ],
      "metadata": {
        "colab": {
          "base_uri": "https://localhost:8080/"
        },
        "id": "gDdhAioIyuyy",
        "outputId": "5952ed0b-2487-4fb0-d426-22903aeff117"
      },
      "execution_count": null,
      "outputs": [
        {
          "output_type": "stream",
          "name": "stdout",
          "text": [
            "+----------+--------------------+--------------------+------------+--------+---------+------+-------------------+----+--------------------+------------+--------+---------+--------+----------+---------+-------+------------+--------+---------+---------+-----------------+--------+----------------+------------+--------+--------+-----------------+-----------------+-------------+------------------+-----------------------+----------+-----+----+----------+-------------+---------+------------------------+\n",
            "|   FL_DATE|             AIRLINE|         AIRLINE_DOT|AIRLINE_CODE|DOT_CODE|FL_NUMBER|ORIGIN|        ORIGIN_CITY|DEST|           DEST_CITY|CRS_DEP_TIME|DEP_TIME|DEP_DELAY|TAXI_OUT|WHEELS_OFF|WHEELS_ON|TAXI_IN|CRS_ARR_TIME|ARR_TIME|ARR_DELAY|CANCELLED|CANCELLATION_CODE|DIVERTED|CRS_ELAPSED_TIME|ELAPSED_TIME|AIR_TIME|DISTANCE|DELAY_DUE_CARRIER|DELAY_DUE_WEATHER|DELAY_DUE_NAS|DELAY_DUE_SECURITY|DELAY_DUE_LATE_AIRCRAFT|     ROUTE|Month|Year|IS_DELAYED|FLIGHT_STATUS|TAXI_TIME|ELAPSED_TIME_DISCREPANCY|\n",
            "+----------+--------------------+--------------------+------------+--------+---------+------+-------------------+----+--------------------+------------+--------+---------+--------+----------+---------+-------+------------+--------+---------+---------+-----------------+--------+----------------+------------+--------+--------+-----------------+-----------------+-------------+------------------+-----------------------+----------+-----+----+----------+-------------+---------+------------------------+\n",
            "|2019-01-09|United Air Lines ...|United Air Lines ...|          UA|   19977|     1562|   FLL|Fort Lauderdale, FL| EWR|          Newark, NJ|        1155|  1151.0|      0.0|    19.0|    1210.0|   1443.0|    4.0|        1501|  1447.0|      0.0|      0.0|             NULL|     0.0|           186.0|       176.0|   153.0|  1065.0|              0.0|              0.0|          0.0|               0.0|                    0.0|FLL -> EWR|    1|2019|         0|    Completed|     23.0|                   -10.0|\n",
            "|2022-11-19|Delta Air Lines Inc.|Delta Air Lines I...|          DL|   19790|     1149|   MSP|    Minneapolis, MN| SEA|         Seattle, WA|        2120|  2114.0|      0.0|     9.0|    2123.0|   2232.0|   38.0|        2315|  2310.0|      0.0|      0.0|             NULL|     0.0|           235.0|       236.0|   189.0|  1399.0|              0.0|              0.0|          0.0|               0.0|                    0.0|MSP -> SEA|   11|2022|         0|    Completed|     47.0|                     1.0|\n",
            "|2022-07-22|United Air Lines ...|United Air Lines ...|          UA|   19977|      459|   DEN|         Denver, CO| MSP|     Minneapolis, MN|         954|  1000.0|      6.0|    20.0|    1020.0|   1247.0|    5.0|        1252|  1252.0|      0.0|      0.0|             NULL|     0.0|           118.0|       112.0|    87.0|   680.0|              0.0|              0.0|          0.0|               0.0|                    0.0|DEN -> MSP|    7|2022|         0|    Completed|     25.0|                    -6.0|\n",
            "|2023-03-06|Delta Air Lines Inc.|Delta Air Lines I...|          DL|   19790|     2295|   MSP|    Minneapolis, MN| SFO|   San Francisco, CA|        1609|  1608.0|      0.0|    27.0|    1635.0|   1844.0|    9.0|        1829|  1853.0|     24.0|      0.0|             NULL|     0.0|           260.0|       285.0|   249.0|  1589.0|              0.0|              0.0|         24.0|               0.0|                    0.0|MSP -> SFO|    3|2023|         1|    Completed|     36.0|                    25.0|\n",
            "|2020-02-23|    Spirit Air Lines|Spirit Air Lines: NK|          NK|   20416|      407|   MCO|        Orlando, FL| DFW|Dallas/Fort Worth...|        1840|  1838.0|      0.0|    15.0|    1853.0|   2026.0|   14.0|        2041|  2040.0|      0.0|      0.0|             NULL|     0.0|           181.0|       182.0|   153.0|   985.0|              0.0|              0.0|          0.0|               0.0|                    0.0|MCO -> DFW|    2|2020|         0|    Completed|     29.0|                     1.0|\n",
            "|2019-07-31|Southwest Airline...|Southwest Airline...|          WN|   19393|      665|   DAL|         Dallas, TX| OKC|   Oklahoma City, OK|        1010|  1237.0|    147.0|    15.0|    1252.0|   1328.0|    3.0|        1110|  1331.0|    141.0|      0.0|             NULL|     0.0|            60.0|        54.0|    36.0|   181.0|            141.0|              0.0|          0.0|               0.0|                    0.0|DAL -> OKC|    7|2019|         1|    Completed|     18.0|                    -6.0|\n",
            "|2023-06-11|American Airlines...|American Airlines...|          AA|   19805|     2134|   DCA|     Washington, DC| BOS|          Boston, MA|        1010|  1001.0|      0.0|    23.0|    1024.0|   1122.0|    8.0|        1159|  1130.0|      0.0|      0.0|             NULL|     0.0|           109.0|        89.0|    58.0|   399.0|              0.0|              0.0|          0.0|               0.0|                    0.0|DCA -> BOS|    6|2023|         0|    Completed|     31.0|                   -20.0|\n",
            "|2019-07-08|    Republic Airline|Republic Airline: YX|          YX|   20452|     4464|   HSV|     Huntsville, AL| DCA|      Washington, DC|        1643|  1637.0|      0.0|    22.0|    1659.0|   1927.0|   41.0|        1945|  2008.0|     23.0|      0.0|             NULL|     0.0|           122.0|       151.0|    88.0|   613.0|              0.0|              0.0|         23.0|               0.0|                    0.0|HSV -> DCA|    7|2019|         1|    Completed|     63.0|                    29.0|\n",
            "|2023-02-12|    Spirit Air Lines|Spirit Air Lines: NK|          NK|   20416|      590|   IAH|        Houston, TX| LAX|     Los Angeles, CA|         530|   527.0|      0.0|    11.0|     538.0|    658.0|    8.0|         717|   706.0|      0.0|      0.0|             NULL|     0.0|           227.0|       219.0|   200.0|  1379.0|              0.0|              0.0|          0.0|               0.0|                    0.0|IAH -> LAX|    2|2023|         0|    Completed|     19.0|                    -8.0|\n",
            "|2020-08-22|Alaska Airlines Inc.|Alaska Airlines I...|          AS|   19930|      223|   SEA|        Seattle, WA| FAI|       Fairbanks, AK|        2125|  2116.0|      0.0|    19.0|    2135.0|   2353.0|    3.0|        2355|  2356.0|      1.0|      0.0|             NULL|     0.0|           210.0|       220.0|   198.0|  1533.0|              0.0|              0.0|          0.0|               0.0|                    0.0|SEA -> FAI|    8|2020|         0|    Completed|     22.0|                    10.0|\n",
            "+----------+--------------------+--------------------+------------+--------+---------+------+-------------------+----+--------------------+------------+--------+---------+--------+----------+---------+-------+------------+--------+---------+---------+-----------------+--------+----------------+------------+--------+--------+-----------------+-----------------+-------------+------------------+-----------------------+----------+-----+----+----------+-------------+---------+------------------------+\n",
            "only showing top 10 rows\n",
            "\n"
          ]
        }
      ]
    },
    {
      "cell_type": "code",
      "source": [
        "flights_cleaned.printSchema()"
      ],
      "metadata": {
        "colab": {
          "base_uri": "https://localhost:8080/"
        },
        "id": "WIbI8V95zWgX",
        "outputId": "2391111e-29b0-4d9d-d81e-0666a2eaaed1"
      },
      "execution_count": null,
      "outputs": [
        {
          "output_type": "stream",
          "name": "stdout",
          "text": [
            "root\n",
            " |-- FL_DATE: date (nullable = true)\n",
            " |-- AIRLINE: string (nullable = true)\n",
            " |-- AIRLINE_DOT: string (nullable = true)\n",
            " |-- AIRLINE_CODE: string (nullable = true)\n",
            " |-- DOT_CODE: integer (nullable = true)\n",
            " |-- FL_NUMBER: integer (nullable = true)\n",
            " |-- ORIGIN: string (nullable = true)\n",
            " |-- ORIGIN_CITY: string (nullable = true)\n",
            " |-- DEST: string (nullable = true)\n",
            " |-- DEST_CITY: string (nullable = true)\n",
            " |-- CRS_DEP_TIME: integer (nullable = true)\n",
            " |-- DEP_TIME: double (nullable = true)\n",
            " |-- DEP_DELAY: double (nullable = true)\n",
            " |-- TAXI_OUT: double (nullable = true)\n",
            " |-- WHEELS_OFF: double (nullable = true)\n",
            " |-- WHEELS_ON: double (nullable = true)\n",
            " |-- TAXI_IN: double (nullable = true)\n",
            " |-- CRS_ARR_TIME: integer (nullable = true)\n",
            " |-- ARR_TIME: double (nullable = true)\n",
            " |-- ARR_DELAY: double (nullable = true)\n",
            " |-- CANCELLED: double (nullable = true)\n",
            " |-- CANCELLATION_CODE: string (nullable = true)\n",
            " |-- DIVERTED: double (nullable = true)\n",
            " |-- CRS_ELAPSED_TIME: double (nullable = true)\n",
            " |-- ELAPSED_TIME: double (nullable = true)\n",
            " |-- AIR_TIME: double (nullable = true)\n",
            " |-- DISTANCE: double (nullable = true)\n",
            " |-- DELAY_DUE_CARRIER: double (nullable = true)\n",
            " |-- DELAY_DUE_WEATHER: double (nullable = true)\n",
            " |-- DELAY_DUE_NAS: double (nullable = true)\n",
            " |-- DELAY_DUE_SECURITY: double (nullable = true)\n",
            " |-- DELAY_DUE_LATE_AIRCRAFT: double (nullable = true)\n",
            " |-- ROUTE: string (nullable = false)\n",
            " |-- Month: integer (nullable = true)\n",
            " |-- Year: integer (nullable = true)\n",
            " |-- IS_DELAYED: integer (nullable = false)\n",
            " |-- FLIGHT_STATUS: string (nullable = false)\n",
            " |-- TAXI_TIME: double (nullable = true)\n",
            " |-- ELAPSED_TIME_DISCREPANCY: double (nullable = true)\n",
            "\n"
          ]
        }
      ]
    },
    {
      "cell_type": "code",
      "source": [
        "row_count = flights_cleaned.count()\n",
        "print(f\"Number of rows in flights_cleaned: {row_count}\")"
      ],
      "metadata": {
        "colab": {
          "base_uri": "https://localhost:8080/"
        },
        "id": "yEKG-ghw1J_M",
        "outputId": "16ce3ec6-6f05-435a-d627-08f73f0e5715"
      },
      "execution_count": null,
      "outputs": [
        {
          "output_type": "stream",
          "name": "stdout",
          "text": [
            "Number of rows in flights_cleaned: 3000000\n"
          ]
        }
      ]
    },
    {
      "cell_type": "markdown",
      "source": [
        "# **EDA AND CLUSTERING** #"
      ],
      "metadata": {
        "id": "bK8JG1PY2Gvd"
      }
    },
    {
      "cell_type": "markdown",
      "source": [
        "## **Data Analysis** ##"
      ],
      "metadata": {
        "id": "1SqsDvbp85wa"
      }
    },
    {
      "cell_type": "markdown",
      "source": [
        "**1. What are the Top 10 Most Frequent Destination Airports?**"
      ],
      "metadata": {
        "id": "aME498TF2Mbd"
      }
    },
    {
      "cell_type": "code",
      "source": [
        "# Group by DEST and count the number of flights\n",
        "top_destinations = flights_cleaned.groupBy(\"DEST\") \\\n",
        "    .count() \\\n",
        "    .orderBy(col(\"count\").desc()) \\\n",
        "    .limit(10)\n",
        "\n",
        "# Show results\n",
        "print(\"Top 10 Most Frequent Destination Airports:\")\n",
        "top_destinations.show()\n"
      ],
      "metadata": {
        "colab": {
          "base_uri": "https://localhost:8080/"
        },
        "id": "LN2w8xlM7UbU",
        "outputId": "87c23cbe-43ac-4d95-bdce-9373efe65bef"
      },
      "execution_count": null,
      "outputs": [
        {
          "output_type": "stream",
          "name": "stdout",
          "text": [
            "Top 10 Most Frequent Destination Airports:\n",
            "+----+------+\n",
            "|DEST| count|\n",
            "+----+------+\n",
            "| ATL|153569|\n",
            "| DFW|129770|\n",
            "| ORD|123334|\n",
            "| DEN|119592|\n",
            "| CLT| 95413|\n",
            "| LAX| 85621|\n",
            "| PHX| 75605|\n",
            "| LAS| 73462|\n",
            "| SEA| 70832|\n",
            "| MCO| 63818|\n",
            "+----+------+\n",
            "\n"
          ]
        }
      ]
    },
    {
      "cell_type": "markdown",
      "source": [
        "Insight:\n",
        "\n",
        "- The top destination is ATL (Atlanta) with 153,569 flights.\n",
        "\n",
        "- Major hub airports like DFW (Dallas Fort Worth), ORD (Chicago O’Hare), and DEN (Denver) rank high in the list.\n",
        "\n",
        "- These airports are large connecting hubs, handling significant traffic volumes."
      ],
      "metadata": {
        "id": "xw9Uisc-AfEG"
      }
    },
    {
      "cell_type": "markdown",
      "source": [
        "The most frequent destination airports are dominated by major metropolitan hubs, showcasing their critical role in domestic air traffic."
      ],
      "metadata": {
        "id": "whNnAwKIAnC9"
      }
    },
    {
      "cell_type": "markdown",
      "source": [
        "**2. Which Routes are the Busiest (Top 10 Routes by Flight Count)?**"
      ],
      "metadata": {
        "id": "zVx7jBfG7iie"
      }
    },
    {
      "cell_type": "code",
      "source": [
        "# Group by ROUTE and count the number of flights\n",
        "busiest_routes = flights_cleaned.groupBy(\"ROUTE\") \\\n",
        "    .count() \\\n",
        "    .orderBy(col(\"count\").desc()) \\\n",
        "    .limit(10)\n",
        "\n",
        "# Show results\n",
        "print(\"Top 10 Busiest Routes:\")\n",
        "busiest_routes.show()\n"
      ],
      "metadata": {
        "colab": {
          "base_uri": "https://localhost:8080/"
        },
        "id": "ucldM3dA7i5l",
        "outputId": "8cd8abb7-50be-415f-bfe4-5331ec17cefd"
      },
      "execution_count": null,
      "outputs": [
        {
          "output_type": "stream",
          "name": "stdout",
          "text": [
            "Top 10 Busiest Routes:\n",
            "+----------+-----+\n",
            "|     ROUTE|count|\n",
            "+----------+-----+\n",
            "|SFO -> LAX| 5358|\n",
            "|LAX -> SFO| 5212|\n",
            "|LGA -> ORD| 4735|\n",
            "|OGG -> HNL| 4656|\n",
            "|ORD -> LGA| 4634|\n",
            "|LAX -> LAS| 4627|\n",
            "|HNL -> OGG| 4554|\n",
            "|LAS -> LAX| 4550|\n",
            "|LAX -> JFK| 4403|\n",
            "|JFK -> LAX| 4305|\n",
            "+----------+-----+\n",
            "\n"
          ]
        }
      ]
    },
    {
      "cell_type": "markdown",
      "source": [
        "Insight:\n",
        "\n",
        "- The busiest route is SFO -> LAX with 5,358 flights, closely followed by LAX -> SFO with 5,221 flights.\n",
        "\n",
        "- Other popular routes include LGA -> ORD, OGG -> HNL, and ORD -> LAX, showing heavy traffic between coastal hubs and tourism destinations.\n",
        "\n",
        "\n",
        "The busiest routes highlight connections between major business and tourist destinations, particularly between California’s Bay Area and Southern California."
      ],
      "metadata": {
        "id": "KS_dwv4uBBK2"
      }
    },
    {
      "cell_type": "markdown",
      "source": [
        "**3. What is the Average Delay (Arrival and Departure) by Airline?**"
      ],
      "metadata": {
        "id": "rpvenMnz8NSR"
      }
    },
    {
      "cell_type": "code",
      "source": [
        "# Group by AIRLINE and calculate average ARR_DELAY and DEP_DELAY\n",
        "average_delay_by_airline = flights_cleaned.groupBy(\"AIRLINE\") \\\n",
        "    .agg(\n",
        "        {\"ARR_DELAY\": \"avg\", \"DEP_DELAY\": \"avg\"}\n",
        "    ) \\\n",
        "    .withColumnRenamed(\"avg(ARR_DELAY)\", \"AVG_ARR_DELAY\") \\\n",
        "    .withColumnRenamed(\"avg(DEP_DELAY)\", \"AVG_DEP_DELAY\") \\\n",
        "    .orderBy(col(\"AVG_ARR_DELAY\").desc())\n",
        "\n",
        "# Show results\n",
        "print(\"Average Delay by Airline:\")\n",
        "average_delay_by_airline.show()\n"
      ],
      "metadata": {
        "colab": {
          "base_uri": "https://localhost:8080/"
        },
        "id": "5xwFZrWB8Nrz",
        "outputId": "b97a7e23-f017-4bb3-80fb-f5458314bb4e"
      },
      "execution_count": null,
      "outputs": [
        {
          "output_type": "stream",
          "name": "stdout",
          "text": [
            "Average Delay by Airline:\n",
            "+--------------------+------------------+------------------+\n",
            "|             AIRLINE|     AVG_ARR_DELAY|     AVG_DEP_DELAY|\n",
            "+--------------------+------------------+------------------+\n",
            "|     JetBlue Airways| 21.99365903131196|22.333293897089604|\n",
            "|       Allegiant Air|20.257179298112757|18.738836936883278|\n",
            "|Frontier Airlines...|  20.0055971041763| 20.15226108264647|\n",
            "|ExpressJet Airlin...|19.193136872597627| 17.71777235411582|\n",
            "|  Mesa Airlines Inc.| 16.32032587992381|16.009986280828254|\n",
            "|    Spirit Air Lines|16.275912017167382|16.053054060128648|\n",
            "|American Airlines...| 15.87368338819777|15.775435572345687|\n",
            "|United Air Lines ...|14.498413018085149|14.555051930481005|\n",
            "|SkyWest Airlines ...|13.823076188258614|13.463059975665843|\n",
            "|   PSA Airlines Inc.|12.990278596484448|12.510062202707648|\n",
            "|           Envoy Air| 11.79176043371522|10.524558841012924|\n",
            "|    Republic Airline| 11.58756976264414|10.413610752393389|\n",
            "|Southwest Airline...|10.951598308234495|12.585720824620134|\n",
            "|Delta Air Lines Inc.|10.716447647853787|10.984815289503493|\n",
            "|   Endeavor Air Inc.|10.406580001456557|  9.98007081895769|\n",
            "|Alaska Airlines Inc.|10.320853765234908| 9.473117952462076|\n",
            "|Hawaiian Airlines...|  8.98548804340968| 8.247431452883706|\n",
            "|         Horizon Air|  8.67559420862776| 8.019572076513509|\n",
            "+--------------------+------------------+------------------+\n",
            "\n"
          ]
        }
      ]
    },
    {
      "cell_type": "markdown",
      "source": [
        "Insight:\n",
        "\n",
        "- JetBlue Airways has the highest average arrival delay (21.93 minutes) and departure delay (22.33 minutes).\n",
        "\n",
        "- Airlines like Hawaiian Airlines and Horizon Air have much lower average delays (< 9 minutes), indicating better on-time performance.\n",
        "Answer:\n",
        "\n",
        "Budget carriers like JetBlue and Allegiant face higher delays, potentially due to tighter schedules or reliance on congested airports. On the other hand, regional airlines tend to have better operational efficiency.\n"
      ],
      "metadata": {
        "id": "pRHkIkRABIy1"
      }
    },
    {
      "cell_type": "markdown",
      "source": [
        "**4. What are the Monthly Trends for Flights?**"
      ],
      "metadata": {
        "id": "OJL1kAyu8Qew"
      }
    },
    {
      "cell_type": "code",
      "source": [
        "# Group by Month and count the number of flights\n",
        "monthly_trends = flights_cleaned.groupBy(\"Month\") \\\n",
        "    .count() \\\n",
        "    .orderBy(col(\"Month\"))\n",
        "\n",
        "# Show results\n",
        "print(\"Monthly Trends in Flight Traffic:\")\n",
        "monthly_trends.show()\n"
      ],
      "metadata": {
        "colab": {
          "base_uri": "https://localhost:8080/"
        },
        "id": "L3Ar_nC-8Q2a",
        "outputId": "be37beeb-70a7-4184-d13f-326835aa963e"
      },
      "execution_count": null,
      "outputs": [
        {
          "output_type": "stream",
          "name": "stdout",
          "text": [
            "Monthly Trends in Flight Traffic:\n",
            "+-----+------+\n",
            "|Month| count|\n",
            "+-----+------+\n",
            "|    1|268702|\n",
            "|    2|248497|\n",
            "|    3|293099|\n",
            "|    4|253917|\n",
            "|    5|252530|\n",
            "|    6|261136|\n",
            "|    7|284968|\n",
            "|    8|287104|\n",
            "|    9|206928|\n",
            "|   10|216790|\n",
            "|   11|210940|\n",
            "|   12|215389|\n",
            "+-----+------+\n",
            "\n"
          ]
        }
      ]
    },
    {
      "cell_type": "markdown",
      "source": [
        "Insight:\n",
        "\n",
        "- The highest flight counts occur in March (2,539,371 flights), followed by July (2,841,968 flights) and December (2,109,404 flights).\n",
        "\n",
        "- These peaks align with spring break, summer vacation, and the holiday season.\n",
        "Answer:\n",
        "\n",
        "Flight traffic is heavily influenced by seasonal travel patterns, with spikes during spring, summer, and December holidays."
      ],
      "metadata": {
        "id": "IwEon25rBMJk"
      }
    },
    {
      "cell_type": "markdown",
      "source": [
        "**5. Which Airlines Have the Most Canceled Flights?**"
      ],
      "metadata": {
        "id": "MIKmyVS08Slz"
      }
    },
    {
      "cell_type": "code",
      "source": [
        "# Group by AIRLINE and sum up CANCELED\n",
        "canceled_by_airline = flights_cleaned.groupBy(\"AIRLINE\") \\\n",
        "    .agg({\"CANCELLED\": \"sum\"}) \\\n",
        "    .withColumnRenamed(\"sum(CANCELLED)\", \"TOTAL_CANCELED\") \\\n",
        "    .orderBy(col(\"TOTAL_CANCELED\").desc())\n",
        "\n",
        "# Show results\n",
        "print(\"Airlines with the Most Canceled Flights:\")\n",
        "canceled_by_airline.show()\n"
      ],
      "metadata": {
        "colab": {
          "base_uri": "https://localhost:8080/"
        },
        "id": "iuPViiGF8S_d",
        "outputId": "efead508-7339-4a7f-e354-72a5e1d86346"
      },
      "execution_count": null,
      "outputs": [
        {
          "output_type": "stream",
          "name": "stdout",
          "text": [
            "Airlines with the Most Canceled Flights:\n",
            "+--------------------+--------------+\n",
            "|             AIRLINE|TOTAL_CANCELED|\n",
            "+--------------------+--------------+\n",
            "|Southwest Airline...|       19465.0|\n",
            "|American Airlines...|       10907.0|\n",
            "|SkyWest Airlines ...|        7745.0|\n",
            "|Delta Air Lines Inc.|        5982.0|\n",
            "|United Air Lines ...|        5536.0|\n",
            "|    Republic Airline|        4646.0|\n",
            "|           Envoy Air|        3633.0|\n",
            "|   PSA Airlines Inc.|        3301.0|\n",
            "|     JetBlue Airways|        3039.0|\n",
            "|   Endeavor Air Inc.|        2394.0|\n",
            "|       Allegiant Air|        2383.0|\n",
            "|  Mesa Airlines Inc.|        2373.0|\n",
            "|    Spirit Air Lines|        2312.0|\n",
            "|Alaska Airlines Inc.|        1934.0|\n",
            "|Frontier Airlines...|        1666.0|\n",
            "|ExpressJet Airlin...|        1062.0|\n",
            "|Hawaiian Airlines...|         388.0|\n",
            "|         Horizon Air|         374.0|\n",
            "+--------------------+--------------+\n",
            "\n"
          ]
        }
      ]
    },
    {
      "cell_type": "markdown",
      "source": [
        "Insight:\n",
        "\n",
        "- Southwest Airlines has the highest number of canceled flights (19,455), followed by American Airlines (10,907).\n",
        "\n",
        "- Legacy carriers and airlines with larger fleets are more prone to cancellations due to their extensive networks and operational complexities.\n",
        "Answer:\n",
        "\n",
        "Airlines with broader networks and higher flight volumes are more likely to have operational disruptions, leading to cancellations."
      ],
      "metadata": {
        "id": "XFvUBnKEBTxm"
      }
    },
    {
      "cell_type": "markdown",
      "source": [
        "**6. Which Routes Have the Most Delays?**"
      ],
      "metadata": {
        "id": "z34OwEPZ8gBr"
      }
    },
    {
      "cell_type": "code",
      "source": [
        "# Group by ROUTE and calculate the total ARR_DELAY\n",
        "routes_with_delays = flights_cleaned.groupBy(\"ROUTE\") \\\n",
        "    .agg({\"ARR_DELAY\": \"sum\"}) \\\n",
        "    .withColumnRenamed(\"sum(ARR_DELAY)\", \"TOTAL_ARR_DELAY\") \\\n",
        "    .orderBy(col(\"TOTAL_ARR_DELAY\").desc()) \\\n",
        "    .limit(10)\n",
        "\n",
        "# Show results\n",
        "print(\"Top 10 Routes with the Most Delays:\")\n",
        "routes_with_delays.show()\n"
      ],
      "metadata": {
        "colab": {
          "base_uri": "https://localhost:8080/"
        },
        "id": "rznRKCz98gTl",
        "outputId": "ce7c0558-c491-4b10-9ffa-1e1954797c77"
      },
      "execution_count": null,
      "outputs": [
        {
          "output_type": "stream",
          "name": "stdout",
          "text": [
            "Top 10 Routes with the Most Delays:\n",
            "+----------+---------------+\n",
            "|     ROUTE|TOTAL_ARR_DELAY|\n",
            "+----------+---------------+\n",
            "|ORD -> LGA|        91186.0|\n",
            "|LGA -> ORD|        82542.0|\n",
            "|MCO -> EWR|        69541.0|\n",
            "|LAX -> SFO|        67027.0|\n",
            "|LAX -> JFK|        65247.0|\n",
            "|EWR -> MCO|        63567.0|\n",
            "|LAS -> LAX|        61442.0|\n",
            "|LAX -> LAS|        59175.0|\n",
            "|JFK -> LAX|        57477.0|\n",
            "|DCA -> BOS|        57368.0|\n",
            "+----------+---------------+\n",
            "\n"
          ]
        }
      ]
    },
    {
      "cell_type": "markdown",
      "source": [
        "Insight:\n",
        "\n",
        "- The route ORD -> LGA has the highest total delay (91,118 minutes), followed by LGA -> ORD and ORD -> EWR.\n",
        "- These routes often connect congested airports, contributing to significant delays.\n",
        "Answer:\n",
        "\n",
        "Routes connecting busy metropolitan airports face the most delays due to high traffic volumes, weather disruptions, and airspace congestion."
      ],
      "metadata": {
        "id": "YehlCxoCBXzH"
      }
    },
    {
      "cell_type": "markdown",
      "source": [
        "## **Clustering** ##"
      ],
      "metadata": {
        "id": "FCM53is48i01"
      }
    },
    {
      "cell_type": "markdown",
      "source": [
        "We use K-means clustering to group similar destinations based on features like total flights, average delay, and distance."
      ],
      "metadata": {
        "id": "lcrVlwiR9NYj"
      }
    },
    {
      "cell_type": "markdown",
      "source": [
        "**1. Prepare Data for Clustering**"
      ],
      "metadata": {
        "id": "C8tjnBJu9PL3"
      }
    },
    {
      "cell_type": "code",
      "source": [
        "from pyspark.ml.feature import VectorAssembler\n",
        "from pyspark.ml.clustering import KMeans\n",
        "\n",
        "# Aggregate data for clustering\n",
        "destination_stats = flights_cleaned.groupBy(\"DEST\") \\\n",
        "    .agg(\n",
        "        {\"DISTANCE\": \"avg\", \"ARR_DELAY\": \"avg\", \"ROUTE\": \"count\"}\n",
        "    ) \\\n",
        "    .withColumnRenamed(\"avg(DISTANCE)\", \"AVG_DISTANCE\") \\\n",
        "    .withColumnRenamed(\"avg(ARR_DELAY)\", \"AVG_ARR_DELAY\") \\\n",
        "    .withColumnRenamed(\"count(ROUTE)\", \"TOTAL_FLIGHTS\")\n",
        "\n",
        "# Prepare features for clustering\n",
        "assembler = VectorAssembler(inputCols=[\"AVG_DISTANCE\", \"AVG_ARR_DELAY\", \"TOTAL_FLIGHTS\"], outputCol=\"features\")\n",
        "destination_features = assembler.transform(destination_stats)\n"
      ],
      "metadata": {
        "id": "ynudBfBw8-Vk"
      },
      "execution_count": null,
      "outputs": []
    },
    {
      "cell_type": "markdown",
      "source": [
        "**2. Apply K-Means Clustering**"
      ],
      "metadata": {
        "id": "jgKvAoWm9Q5_"
      }
    },
    {
      "cell_type": "code",
      "source": [
        "# Apply K-means\n",
        "kmeans = KMeans(k=3, seed=42)  # 3 clusters\n",
        "kmeans_model = kmeans.fit(destination_features)\n",
        "\n",
        "# Add cluster predictions to the data\n",
        "clustered_destinations = kmeans_model.transform(destination_features)\n",
        "\n",
        "# Show cluster assignments\n",
        "print(\"Clustered Destinations:\")\n",
        "clustered_destinations.select(\"DEST\", \"AVG_DISTANCE\", \"AVG_ARR_DELAY\", \"TOTAL_FLIGHTS\", \"prediction\").show()\n"
      ],
      "metadata": {
        "colab": {
          "base_uri": "https://localhost:8080/"
        },
        "id": "qcb1r31i9RJO",
        "outputId": "6209decd-f54c-468d-fc8c-580bff49701f"
      },
      "execution_count": null,
      "outputs": [
        {
          "output_type": "stream",
          "name": "stdout",
          "text": [
            "Clustered Destinations:\n",
            "+----+------------------+------------------+-------------+----------+\n",
            "|DEST|      AVG_DISTANCE|     AVG_ARR_DELAY|TOTAL_FLIGHTS|prediction|\n",
            "+----+------------------+------------------+-------------+----------+\n",
            "| BGM| 326.9550561797753|16.362595419847327|          267|         0|\n",
            "| INL|244.13571428571427|11.104868913857677|          280|         0|\n",
            "| PSE|1321.6436781609195|17.544354838709676|          261|         0|\n",
            "| DLG|288.56716417910445|             8.616|          134|         0|\n",
            "| MSY|  772.224571909797|13.321166820365967|        21374|         0|\n",
            "| PPG|            2599.0|          17.09375|           33|         0|\n",
            "| GEG|  640.416710319539|10.872526888859381|         7636|         0|\n",
            "| DRT|             335.0|11.676923076923076|          269|         0|\n",
            "| BUR| 518.0726917121669| 10.41945624468989|        12271|         0|\n",
            "| SNA| 782.7671450482034| 9.352220348510398|        18256|         0|\n",
            "| FOD| 294.7905405405405|20.296296296296298|          148|         0|\n",
            "| GTF| 589.9894332372719| 7.745136186770428|         1041|         0|\n",
            "| GRB| 300.2072434607646| 12.55074703760948|         1988|         0|\n",
            "| IDA| 440.8991315965264|11.705442176870749|         1497|         0|\n",
            "| GRR| 580.4783187017824|14.379495659363373|         7518|         0|\n",
            "| LWB| 376.3223140495868|12.801724137931034|          242|         0|\n",
            "| PVU| 602.1350844277673|       31.26953125|          533|         0|\n",
            "| JLN|           412.935|14.209424083769633|          400|         0|\n",
            "| EUG| 626.2136879856545| 10.31478102189781|         3346|         0|\n",
            "| PSG|  75.8780487804878| 9.455108359133128|          328|         0|\n",
            "+----+------------------+------------------+-------------+----------+\n",
            "only showing top 20 rows\n",
            "\n"
          ]
        }
      ]
    },
    {
      "cell_type": "markdown",
      "source": [
        "**3. Visualize Clustering Results**"
      ],
      "metadata": {
        "id": "PTc3f4OACNYa"
      }
    },
    {
      "cell_type": "code",
      "source": [
        "# Convert PySpark DataFrame to Pandas DataFrame\n",
        "clustered_destinations_pandas = clustered_destinations.select(\n",
        "    \"DEST\", \"AVG_DISTANCE\", \"AVG_ARR_DELAY\", \"TOTAL_FLIGHTS\", \"prediction\"\n",
        ").toPandas()\n",
        "\n",
        "# Import visualization libraries\n",
        "import matplotlib.pyplot as plt\n",
        "import seaborn as sns\n",
        "\n",
        "# Set Seaborn style\n",
        "sns.set(style=\"whitegrid\")\n",
        "\n",
        "# Plot Clusters: Scatterplot (Average Distance vs. Total Flights)\n",
        "plt.figure(figsize=(10, 6))\n",
        "sns.scatterplot(\n",
        "    data=clustered_destinations_pandas,\n",
        "    x=\"AVG_DISTANCE\",\n",
        "    y=\"TOTAL_FLIGHTS\",\n",
        "    hue=\"prediction\",\n",
        "    palette=\"deep\",\n",
        "    s=100,\n",
        "    alpha=0.8,\n",
        ")\n",
        "plt.title(\"Clusters of Destinations (Based on Distance and Flight Volume)\")\n",
        "plt.xlabel(\"Average Distance (miles)\")\n",
        "plt.ylabel(\"Total Flights\")\n",
        "plt.legend(title=\"Cluster\")\n",
        "plt.show()\n",
        "\n",
        "# Plot Clusters: Scatterplot (Average Delay vs. Total Flights)\n",
        "plt.figure(figsize=(10, 6))\n",
        "sns.scatterplot(\n",
        "    data=clustered_destinations_pandas,\n",
        "    x=\"AVG_ARR_DELAY\",\n",
        "    y=\"TOTAL_FLIGHTS\",\n",
        "    hue=\"prediction\",\n",
        "    palette=\"deep\",\n",
        "    s=100,\n",
        "    alpha=0.8,\n",
        ")\n",
        "plt.title(\"Clusters of Destinations (Based on Delays and Flight Volume)\")\n",
        "plt.xlabel(\"Average Arrival Delay (minutes)\")\n",
        "plt.ylabel(\"Total Flights\")\n",
        "plt.legend(title=\"Cluster\")\n",
        "plt.show()\n",
        "plt.savefig(\"cluster_visualization_1.png\")\n"
      ],
      "metadata": {
        "colab": {
          "base_uri": "https://localhost:8080/",
          "height": 1000
        },
        "id": "MNMm58b9CK5C",
        "outputId": "603a6249-7123-4a0b-dc65-bf4209ddb16a"
      },
      "execution_count": null,
      "outputs": [
        {
          "output_type": "display_data",
          "data": {
            "text/plain": [
              "<Figure size 1000x600 with 1 Axes>"
            ],
            "image/png": "[encoded data removed]"
          },
          "metadata": {}
        },
        {
          "output_type": "display_data",
          "data": {
            "text/plain": [
              "<Figure size 1000x600 with 1 Axes>"
            ],
            "image/png": "[encoded data removed]"
          },
          "metadata": {}
        },
        {
          "output_type": "display_data",
          "data": {
            "text/plain": [
              "<Figure size 640x480 with 0 Axes>"
            ]
          },
          "metadata": {}
        }
      ]
    },
    {
      "cell_type": "markdown",
      "source": [
        "Explanation of the **Visualizations**\n",
        "\n",
        "Scatterplot **1**: **Average Distance vs. Total Flights**\n",
        "\n",
        "- This plot highlights how destinations are grouped based on how far they are from origin airports and how frequently they are visited.\n",
        "- Clusters will reveal patterns like:\n",
        "  - High-traffic destinations close to major hubs.\n",
        "  - Remote destinations with lower traffic.\n",
        "\n",
        "\n",
        "Scatterplot **2**: **Average Delay vs. Total Flights**\n",
        "\n",
        "- This plot helps analyze destinations grouped by their delay patterns and flight volume.\n",
        "- Clusters will reveal patterns like:\n",
        "  - Delay-prone destinations with high traffic.\n",
        "  - Less trafficked destinations with low delays."
      ],
      "metadata": {
        "id": "nlF4EYkxCbA_"
      }
    },
    {
      "cell_type": "code",
      "source": [],
      "metadata": {
        "colab": {
          "base_uri": "https://localhost:8080/",
          "height": 34
        },
        "id": "HomCFwHZCzlw",
        "outputId": "548f7da5-6b3d-4365-ac50-1fec55796599"
      },
      "execution_count": null,
      "outputs": [
        {
          "output_type": "display_data",
          "data": {
            "text/plain": [
              "<Figure size 640x480 with 0 Axes>"
            ]
          },
          "metadata": {}
        }
      ]
    },
    {
      "cell_type": "markdown",
      "source": [
        "# **MACHINE LEARNING APPLICATIONS** #"
      ],
      "metadata": {
        "id": "bheESH3D2Pkk"
      }
    },
    {
      "cell_type": "markdown",
      "source": [
        "## Test features selection 1 ##"
      ],
      "metadata": {
        "id": "NUmzvt8kNwh6"
      }
    },
    {
      "cell_type": "markdown",
      "source": [
        "**1. Prepare Data**"
      ],
      "metadata": {
        "id": "QzKAHyje2V34"
      }
    },
    {
      "cell_type": "code",
      "source": [
        "from pyspark.ml.feature import VectorAssembler\n",
        "from pyspark.ml.classification import LogisticRegression\n",
        "from pyspark.ml.evaluation import BinaryClassificationEvaluator\n",
        "from pyspark.ml import Pipeline"
      ],
      "metadata": {
        "id": "cHx2gzDLHKDJ"
      },
      "execution_count": null,
      "outputs": []
    },
    {
      "cell_type": "markdown",
      "source": [
        "We will use the following features for prediction:\n",
        "- DISTANCE\n",
        "- CRS_DEP_TIME\n",
        "- Month\n",
        "- Year"
      ],
      "metadata": {
        "id": "3fQRZzDfHLyE"
      }
    },
    {
      "cell_type": "code",
      "source": [
        "selected_features = [\"DISTANCE\", \"CRS_DEP_TIME\", \"Month\", \"Year\"]"
      ],
      "metadata": {
        "id": "wiKSHdxiHRLZ"
      },
      "execution_count": null,
      "outputs": []
    },
    {
      "cell_type": "code",
      "source": [
        "# Assemble Features into a Single Vector\n",
        "assembler = VectorAssembler(inputCols=selected_features, outputCol=\"features\")\n",
        "\n",
        "# Split Data into Training and Test Sets. Split data into 80% training and 20% testing\n",
        "train_data, test_data = flights_cleaned.randomSplit([0.8, 0.2], seed=42)\n"
      ],
      "metadata": {
        "id": "ek0cZtSD2WJm"
      },
      "execution_count": null,
      "outputs": []
    },
    {
      "cell_type": "markdown",
      "source": [
        "**2. Build the Logistic Regression Model**"
      ],
      "metadata": {
        "id": "m5AuEkGSHZoR"
      }
    },
    {
      "cell_type": "code",
      "source": [
        "# Define Logistic Regression Model\n",
        "lr = LogisticRegression(featuresCol=\"features\", labelCol=\"IS_DELAYED\")\n"
      ],
      "metadata": {
        "id": "ZR3tJMSYHfeA"
      },
      "execution_count": null,
      "outputs": []
    },
    {
      "cell_type": "code",
      "source": [
        "# Create a Pipeline\n",
        "# The pipeline ensures that the feature assembler and logistic regression are applied sequentially.\n",
        "pipeline = Pipeline(stages=[assembler, lr])"
      ],
      "metadata": {
        "id": "w8D2ET9CHjBx"
      },
      "execution_count": null,
      "outputs": []
    },
    {
      "cell_type": "code",
      "source": [
        "# Train the Model\n",
        "model = pipeline.fit(train_data)"
      ],
      "metadata": {
        "id": "mHykXJ5YHlpq"
      },
      "execution_count": null,
      "outputs": []
    },
    {
      "cell_type": "markdown",
      "source": [
        "**3. Evaluate the Model**"
      ],
      "metadata": {
        "id": "13V0FnarHpyQ"
      }
    },
    {
      "cell_type": "markdown",
      "source": [
        "We will evaluate the model's performance on the test dataset using the Area Under the ROC Curve (AUC) metric."
      ],
      "metadata": {
        "id": "2KLw5Y-ZHsaU"
      }
    },
    {
      "cell_type": "code",
      "source": [
        "# Make Predictions on the Test Set\n",
        "predictions = model.transform(test_data)\n",
        "\n",
        "# Evaluate the Model\n",
        "evaluator = BinaryClassificationEvaluator(labelCol=\"IS_DELAYED\", metricName=\"areaUnderROC\")\n",
        "auc = evaluator.evaluate(predictions)\n",
        "\n",
        "print(f\"Area Under ROC (AUC): {auc}\")\n"
      ],
      "metadata": {
        "colab": {
          "base_uri": "https://localhost:8080/"
        },
        "id": "mcLHVf8mHqn8",
        "outputId": "8a98be5a-f927-43e9-a1b9-c0b94ee3979e"
      },
      "execution_count": null,
      "outputs": [
        {
          "output_type": "stream",
          "name": "stdout",
          "text": [
            "Area Under ROC (AUC): 0.6141301810760438\n"
          ]
        }
      ]
    },
    {
      "cell_type": "code",
      "source": [
        "# Show Sample Predictions\n",
        "predictions.select(\"features\", \"IS_DELAYED\", \"prediction\", \"probability\").show(10)"
      ],
      "metadata": {
        "colab": {
          "base_uri": "https://localhost:8080/"
        },
        "id": "-FR8ml4jIJqN",
        "outputId": "1f297935-9078-4516-b5fd-c2d7bdf393f8"
      },
      "execution_count": null,
      "outputs": [
        {
          "output_type": "stream",
          "name": "stdout",
          "text": [
            "+--------------------+----------+----------+--------------------+\n",
            "|            features|IS_DELAYED|prediction|         probability|\n",
            "+--------------------+----------+----------+--------------------+\n",
            "|[1533.0,600.0,1.0...|         0|       0.0|[0.90895357596697...|\n",
            "|[978.0,650.0,1.0,...|         0|       0.0|[0.91139415895326...|\n",
            "|[2355.0,1525.0,1....|         1|       0.0|[0.82101271678653...|\n",
            "|[511.0,1635.0,1.0...|         0|       0.0|[0.84072313885173...|\n",
            "|[1197.0,1200.0,1....|         1|       0.0|[0.86997226129345...|\n",
            "|[1744.0,2030.0,1....|         0|       0.0|[0.77307232596507...|\n",
            "|[601.0,1107.0,1.0...|         0|       0.0|[0.88498128981437...|\n",
            "|[814.0,1247.0,1.0...|         0|       0.0|[0.87125948441365...|\n",
            "|[1726.0,1343.0,1....|         0|       0.0|[0.84970405353932...|\n",
            "|[985.0,1537.0,1.0...|         0|       0.0|[0.84273501409678...|\n",
            "+--------------------+----------+----------+--------------------+\n",
            "only showing top 10 rows\n",
            "\n"
          ]
        }
      ]
    },
    {
      "cell_type": "markdown",
      "source": [
        "**4. Classification Report and Confusion Matrix**"
      ],
      "metadata": {
        "id": "i2Cq4ptIH11z"
      }
    },
    {
      "cell_type": "code",
      "source": [
        "from sklearn.metrics import classification_report\n",
        "\n",
        "predictions_df = predictions.select(\"IS_DELAYED\", \"prediction\").toPandas()\n",
        "y_true = predictions_df[\"IS_DELAYED\"]\n",
        "y_pred = predictions_df[\"prediction\"]\n",
        "\n",
        "print(\"Classification Report:\")\n",
        "print(classification_report(y_true, y_pred))"
      ],
      "metadata": {
        "colab": {
          "base_uri": "https://localhost:8080/"
        },
        "id": "AI2pdmciIOd4",
        "outputId": "6244fd02-f204-45c2-c20f-d48b224e24c5"
      },
      "execution_count": null,
      "outputs": [
        {
          "output_type": "stream",
          "name": "stdout",
          "text": [
            "Classification Report:\n"
          ]
        },
        {
          "output_type": "stream",
          "name": "stderr",
          "text": [
            "/usr/local/lib/python3.10/dist-packages/sklearn/metrics/_classification.py:1565: UndefinedMetricWarning: Precision is ill-defined and being set to 0.0 in labels with no predicted samples. Use `zero_division` parameter to control this behavior.\n",
            "  _warn_prf(average, modifier, f\"{metric.capitalize()} is\", len(result))\n"
          ]
        },
        {
          "output_type": "stream",
          "name": "stdout",
          "text": [
            "              precision    recall  f1-score   support\n",
            "\n",
            "           0       0.83      1.00      0.91    497584\n",
            "           1       0.00      0.00      0.00    102423\n",
            "\n",
            "    accuracy                           0.83    600007\n",
            "   macro avg       0.41      0.50      0.45    600007\n",
            "weighted avg       0.69      0.83      0.75    600007\n",
            "\n"
          ]
        },
        {
          "output_type": "stream",
          "name": "stderr",
          "text": [
            "/usr/local/lib/python3.10/dist-packages/sklearn/metrics/_classification.py:1565: UndefinedMetricWarning: Precision is ill-defined and being set to 0.0 in labels with no predicted samples. Use `zero_division` parameter to control this behavior.\n",
            "  _warn_prf(average, modifier, f\"{metric.capitalize()} is\", len(result))\n",
            "/usr/local/lib/python3.10/dist-packages/sklearn/metrics/_classification.py:1565: UndefinedMetricWarning: Precision is ill-defined and being set to 0.0 in labels with no predicted samples. Use `zero_division` parameter to control this behavior.\n",
            "  _warn_prf(average, modifier, f\"{metric.capitalize()} is\", len(result))\n"
          ]
        }
      ]
    },
    {
      "cell_type": "code",
      "source": [
        "from sklearn.metrics import confusion_matrix, ConfusionMatrixDisplay\n",
        "import matplotlib.pyplot as plt\n",
        "\n",
        "cm = confusion_matrix(y_true, y_pred, labels=[1, 0])\n",
        "disp = ConfusionMatrixDisplay(confusion_matrix=cm, display_labels=[\"Delayed (1)\", \"Not Delayed (0)\"])\n",
        "disp.plot(cmap=plt.cm.Blues)\n",
        "plt.title(\"Confusion Matrix\")\n",
        "plt.show()"
      ],
      "metadata": {
        "colab": {
          "base_uri": "https://localhost:8080/",
          "height": 480
        },
        "id": "G0fogG3wIPlr",
        "outputId": "ebc6e755-2de4-4396-db9b-ff550d083760"
      },
      "execution_count": null,
      "outputs": [
        {
          "output_type": "display_data",
          "data": {
            "text/plain": [
              "<Figure size 640x480 with 2 Axes>"
            ],
            "image/png": "[encoded data removed]"
          },
          "metadata": {}
        }
      ]
    },
    {
      "cell_type": "code",
      "source": [
        "from sklearn.metrics import confusion_matrix, ConfusionMatrixDisplay\n",
        "import matplotlib.pyplot as plt\n",
        "\n",
        "# Generate the confusion matrix\n",
        "cm = confusion_matrix(y_true, y_pred, labels=[1, 0])\n",
        "\n",
        "# Plot the confusion matrix with exact numbers\n",
        "disp = ConfusionMatrixDisplay(confusion_matrix=cm, display_labels=[\"Delayed (1)\", \"Not Delayed (0)\"])\n",
        "disp.plot(cmap=plt.cm.Blues, values_format='d')  # 'd' ensures integers are displayed\n",
        "plt.title(\"Confusion Matrix\")\n",
        "plt.show()\n"
      ],
      "metadata": {
        "colab": {
          "base_uri": "https://localhost:8080/",
          "height": 480
        },
        "id": "UuM8xD7FKhoO",
        "outputId": "29e45f99-19f2-42e0-a4c1-95f8087ed3f2"
      },
      "execution_count": null,
      "outputs": [
        {
          "output_type": "display_data",
          "data": {
            "text/plain": [
              "<Figure size 640x480 with 2 Axes>"
            ],
            "image/png": "[encoded data removed]"
          },
          "metadata": {}
        }
      ]
    },
    {
      "cell_type": "markdown",
      "source": [
        "**5. Save the Model**"
      ],
      "metadata": {
        "id": "TlcmH10nH0a2"
      }
    },
    {
      "cell_type": "code",
      "source": [
        "# Save the trained model\n",
        "model.save(\"logistic_regression_flight_delay_model\")\n"
      ],
      "metadata": {
        "id": "zs8zmyLzHzCI"
      },
      "execution_count": null,
      "outputs": []
    },
    {
      "cell_type": "markdown",
      "source": [
        "## Test features selection 2 ##"
      ],
      "metadata": {
        "id": "qi3_34wnN3yv"
      }
    },
    {
      "cell_type": "markdown",
      "source": [
        "**1. Prepare Data**\n",
        "\n",
        "We select relevant features, add the class_weights column to handle class imbalance, and split the data."
      ],
      "metadata": {
        "id": "jJBgCWAqN_GC"
      }
    },
    {
      "cell_type": "code",
      "source": [
        "from pyspark.ml.feature import VectorAssembler\n",
        "from pyspark.ml.classification import LogisticRegression\n",
        "from pyspark.ml.evaluation import BinaryClassificationEvaluator\n",
        "from pyspark.ml import Pipeline\n",
        "from pyspark.sql.functions import when, col\n",
        "\n",
        "# Step 1: Select Relevant Features\n",
        "selected_features = [\n",
        "    \"DISTANCE\", \"CRS_DEP_TIME\", \"Month\", \"Year\", \"DEP_DELAY\", \"TAXI_OUT\",\n",
        "    \"TAXI_IN\", \"DELAY_DUE_CARRIER\", \"DELAY_DUE_WEATHER\"\n",
        "]\n",
        "\n",
        "# Step 2: Assemble Features into a Single Vector\n",
        "assembler = VectorAssembler(inputCols=selected_features, outputCol=\"features\")\n",
        "\n",
        "# Step 3: Split Data into Training and Test Sets\n",
        "train_data, test_data = flights_cleaned.randomSplit([0.8, 0.2], seed=42)\n",
        "\n",
        "# Step 4: Calculate the class weight ratio\n",
        "delay_ratio = flights_cleaned.filter(col(\"IS_DELAYED\") == 1).count() / flights_cleaned.count()\n",
        "\n",
        "# Step 5: Add `class_weights` column to train_data and test_data\n",
        "train_data = train_data.withColumn(\n",
        "    \"class_weights\",\n",
        "    when(col(\"IS_DELAYED\") == 1, 1 - delay_ratio).otherwise(delay_ratio)\n",
        ")\n",
        "\n",
        "test_data = test_data.withColumn(\n",
        "    \"class_weights\",\n",
        "    when(col(\"IS_DELAYED\") == 1, 1 - delay_ratio).otherwise(delay_ratio)\n",
        ")\n"
      ],
      "metadata": {
        "id": "EV8KH5w_bIjC"
      },
      "execution_count": null,
      "outputs": []
    },
    {
      "cell_type": "markdown",
      "source": [
        "**2. Build and Train the Model**\n",
        "\n",
        "We use a Logistic Regression classifier with class weights to handle the imbalance between delayed and non-delayed flights."
      ],
      "metadata": {
        "id": "_0S6n0PaOI8-"
      }
    },
    {
      "cell_type": "code",
      "source": [
        "# Step 6: Define Logistic Regression with weightCol\n",
        "lr = LogisticRegression(\n",
        "    featuresCol=\"features\",\n",
        "    labelCol=\"IS_DELAYED\",\n",
        "    weightCol=\"class_weights\"\n",
        ")\n",
        "\n",
        "# Step 7: Create a Pipeline\n",
        "pipeline = Pipeline(stages=[assembler, lr])\n",
        "\n",
        "# Step 8: Train the Model\n",
        "model = pipeline.fit(train_data)\n"
      ],
      "metadata": {
        "colab": {
          "base_uri": "https://localhost:8080/",
          "height": 1000
        },
        "id": "K7toU6JKbYa8",
        "outputId": "53036976-31a5-49c7-a81e-a72ed6f09d73"
      },
      "execution_count": null,
      "outputs": [
        {
          "output_type": "error",
          "ename": "Py4JJavaError",
          "evalue": "An error occurred while calling o1154.fit.\n: org.apache.spark.SparkException: Job aborted due to stage failure: Task 1 in stage 145.0 failed 1 times, most recent failure: Lost task 1.0 in stage 145.0 (TID 279) (f521a0e0742f executor driver): org.apache.spark.SparkException: [FAILED_EXECUTE_UDF] Failed to execute user defined function (`VectorAssembler$$Lambda$4202/0x00000008417a4040`: (struct<DISTANCE:double,CRS_DEP_TIME_double_VectorAssembler_32ec3d3ddbd1:double,Month_double_VectorAssembler_32ec3d3ddbd1:double,Year_double_VectorAssembler_32ec3d3ddbd1:double,DEP_DELAY:double,TAXI_OUT:double,TAXI_IN:double,DELAY_DUE_CARRIER:double,DELAY_DUE_WEATHER:double>) => struct<type:tinyint,size:int,indices:array<int>,values:array<double>>).\n\tat org.apache.spark.sql.errors.QueryExecutionErrors$.failedExecuteUserDefinedFunctionError(QueryExecutionErrors.scala:198)\n\tat org.apache.spark.sql.errors.QueryExecutionErrors.failedExecuteUserDefinedFunctionError(QueryExecutionErrors.scala)\n\tat org.apache.spark.sql.catalyst.expressions.GeneratedClass$GeneratedIteratorForCodegenStage1.processNext(Unknown Source)\n\tat org.apache.spark.sql.execution.BufferedRowIterator.hasNext(BufferedRowIterator.java:43)\n\tat org.apache.spark.sql.execution.WholeStageCodegenEvaluatorFactory$WholeStageCodegenPartitionEvaluator$$anon$1.hasNext(WholeStageCodegenEvaluatorFactory.scala:43)\n\tat scala.collection.Iterator$$anon$10.hasNext(Iterator.scala:460)\n\tat scala.collection.Iterator$$anon$10.hasNext(Iterator.scala:460)\n\tat scala.collection.Iterator$$anon$10.hasNext(Iterator.scala:460)\n\tat scala.collection.Iterator.foreach(Iterator.scala:943)\n\tat scala.collection.Iterator.foreach$(Iterator.scala:943)\n\tat scala.collection.AbstractIterator.foreach(Iterator.scala:1431)\n\tat scala.collection.TraversableOnce.foldLeft(TraversableOnce.scala:199)\n\tat scala.collection.TraversableOnce.foldLeft$(TraversableOnce.scala:192)\n\tat scala.collection.AbstractIterator.foldLeft(Iterator.scala:1431)\n\tat scala.collection.TraversableOnce.aggregate(TraversableOnce.scala:260)\n\tat scala.collection.TraversableOnce.aggregate$(TraversableOnce.scala:260)\n\tat scala.collection.AbstractIterator.aggregate(Iterator.scala:1431)\n\tat org.apache.spark.rdd.RDD.$anonfun$treeAggregate$4(RDD.scala:1264)\n\tat org.apache.spark.rdd.RDD.$anonfun$treeAggregate$6(RDD.scala:1265)\n\tat org.apache.spark.rdd.RDD.$anonfun$mapPartitions$2(RDD.scala:858)\n\tat org.apache.spark.rdd.RDD.$anonfun$mapPartitions$2$adapted(RDD.scala:858)\n\tat org.apache.spark.rdd.MapPartitionsRDD.compute(MapPartitionsRDD.scala:52)\n\tat org.apache.spark.rdd.RDD.computeOrReadCheckpoint(RDD.scala:367)\n\tat org.apache.spark.rdd.RDD.iterator(RDD.scala:331)\n\tat org.apache.spark.scheduler.ResultTask.runTask(ResultTask.scala:93)\n\tat org.apache.spark.TaskContext.runTaskWithListeners(TaskContext.scala:166)\n\tat org.apache.spark.scheduler.Task.run(Task.scala:141)\n\tat org.apache.spark.executor.Executor$TaskRunner.$anonfun$run$4(Executor.scala:620)\n\tat org.apache.spark.util.SparkErrorUtils.tryWithSafeFinally(SparkErrorUtils.scala:64)\n\tat org.apache.spark.util.SparkErrorUtils.tryWithSafeFinally$(SparkErrorUtils.scala:61)\n\tat org.apache.spark.util.Utils$.tryWithSafeFinally(Utils.scala:94)\n\tat org.apache.spark.executor.Executor$TaskRunner.run(Executor.scala:623)\n\tat java.base/java.util.concurrent.ThreadPoolExecutor.runWorker(ThreadPoolExecutor.java:1128)\n\tat java.base/java.util.concurrent.ThreadPoolExecutor$Worker.run(ThreadPoolExecutor.java:628)\n\tat java.base/java.lang.Thread.run(Thread.java:829)\nCaused by: org.apache.spark.SparkException: Encountered null while assembling a row with handleInvalid = \"error\". Consider\nremoving nulls from dataset or using handleInvalid = \"keep\" or \"skip\".\n\tat org.apache.spark.ml.feature.VectorAssembler$.$anonfun$assemble$1(VectorAssembler.scala:291)\n\tat org.apache.spark.ml.feature.VectorAssembler$.$anonfun$assemble$1$adapted(VectorAssembler.scala:260)\n\tat scala.collection.IndexedSeqOptimized.foreach(IndexedSeqOptimized.scala:36)\n\tat scala.collection.IndexedSeqOptimized.foreach$(IndexedSeqOptimized.scala:33)\n\tat scala.collection.mutable.WrappedArray.foreach(WrappedArray.scala:38)\n\tat org.apache.spark.ml.feature.VectorAssembler$.assemble(VectorAssembler.scala:260)\n\tat org.apache.spark.ml.feature.VectorAssembler.$anonfun$transform$6(VectorAssembler.scala:143)\n\t... 33 more\n\nDriver stacktrace:\n\tat org.apache.spark.scheduler.DAGScheduler.failJobAndIndependentStages(DAGScheduler.scala:2856)\n\tat org.apache.spark.scheduler.DAGScheduler.$anonfun$abortStage$2(DAGScheduler.scala:2792)\n\tat org.apache.spark.scheduler.DAGScheduler.$anonfun$abortStage$2$adapted(DAGScheduler.scala:2791)\n\tat scala.collection.mutable.ResizableArray.foreach(ResizableArray.scala:62)\n\tat scala.collection.mutable.ResizableArray.foreach$(ResizableArray.scala:55)\n\tat scala.collection.mutable.ArrayBuffer.foreach(ArrayBuffer.scala:49)\n\tat org.apache.spark.scheduler.DAGScheduler.abortStage(DAGScheduler.scala:2791)\n\tat org.apache.spark.scheduler.DAGScheduler.$anonfun$handleTaskSetFailed$1(DAGScheduler.scala:1247)\n\tat org.apache.spark.scheduler.DAGScheduler.$anonfun$handleTaskSetFailed$1$adapted(DAGScheduler.scala:1247)\n\tat scala.Option.foreach(Option.scala:407)\n\tat org.apache.spark.scheduler.DAGScheduler.handleTaskSetFailed(DAGScheduler.scala:1247)\n\tat org.apache.spark.scheduler.DAGSchedulerEventProcessLoop.doOnReceive(DAGScheduler.scala:3060)\n\tat org.apache.spark.scheduler.DAGSchedulerEventProcessLoop.onReceive(DAGScheduler.scala:2994)\n\tat org.apache.spark.scheduler.DAGSchedulerEventProcessLoop.onReceive(DAGScheduler.scala:2983)\n\tat org.apache.spark.util.EventLoop$$anon$1.run(EventLoop.scala:49)\n\tat org.apache.spark.scheduler.DAGScheduler.runJob(DAGScheduler.scala:989)\n\tat org.apache.spark.SparkContext.runJob(SparkContext.scala:2393)\n\tat org.apache.spark.SparkContext.runJob(SparkContext.scala:2488)\n\tat org.apache.spark.rdd.RDD.$anonfun$fold$1(RDD.scala:1202)\n\tat org.apache.spark.rdd.RDDOperationScope$.withScope(RDDOperationScope.scala:151)\n\tat org.apache.spark.rdd.RDDOperationScope$.withScope(RDDOperationScope.scala:112)\n\tat org.apache.spark.rdd.RDD.withScope(RDD.scala:410)\n\tat org.apache.spark.rdd.RDD.fold(RDD.scala:1196)\n\tat org.apache.spark.rdd.RDD.$anonfun$treeAggregate$2(RDD.scala:1289)\n\tat org.apache.spark.rdd.RDDOperationScope$.withScope(RDDOperationScope.scala:151)\n\tat org.apache.spark.rdd.RDDOperationScope$.withScope(RDDOperationScope.scala:112)\n\tat org.apache.spark.rdd.RDD.withScope(RDD.scala:410)\n\tat org.apache.spark.rdd.RDD.treeAggregate(RDD.scala:1256)\n\tat org.apache.spark.rdd.RDD.$anonfun$treeAggregate$1(RDD.scala:1242)\n\tat org.apache.spark.rdd.RDDOperationScope$.withScope(RDDOperationScope.scala:151)\n\tat org.apache.spark.rdd.RDDOperationScope$.withScope(RDDOperationScope.scala:112)\n\tat org.apache.spark.rdd.RDD.withScope(RDD.scala:410)\n\tat org.apache.spark.rdd.RDD.treeAggregate(RDD.scala:1242)\n\tat org.apache.spark.ml.stat.Summarizer$.getClassificationSummarizers(Summarizer.scala:233)\n\tat org.apache.spark.ml.classification.LogisticRegression.$anonfun$train$1(LogisticRegression.scala:517)\n\tat org.apache.spark.ml.util.Instrumentation$.$anonfun$instrumented$1(Instrumentation.scala:191)\n\tat scala.util.Try$.apply(Try.scala:213)\n\tat org.apache.spark.ml.util.Instrumentation$.instrumented(Instrumentation.scala:191)\n\tat org.apache.spark.ml.classification.LogisticRegression.train(LogisticRegression.scala:497)\n\tat org.apache.spark.ml.classification.LogisticRegression.train(LogisticRegression.scala:287)\n\tat org.apache.spark.ml.Predictor.fit(Predictor.scala:114)\n\tat org.apache.spark.ml.Predictor.fit(Predictor.scala:78)\n\tat java.base/jdk.internal.reflect.NativeMethodAccessorImpl.invoke0(Native Method)\n\tat java.base/jdk.internal.reflect.NativeMethodAccessorImpl.invoke(NativeMethodAccessorImpl.java:62)\n\tat java.base/jdk.internal.reflect.DelegatingMethodAccessorImpl.invoke(DelegatingMethodAccessorImpl.java:43)\n\tat java.base/java.lang.reflect.Method.invoke(Method.java:566)\n\tat py4j.reflection.MethodInvoker.invoke(MethodInvoker.java:244)\n\tat py4j.reflection.ReflectionEngine.invoke(ReflectionEngine.java:374)\n\tat py4j.Gateway.invoke(Gateway.java:282)\n\tat py4j.commands.AbstractCommand.invokeMethod(AbstractCommand.java:132)\n\tat py4j.commands.CallCommand.execute(CallCommand.java:79)\n\tat py4j.ClientServerConnection.waitForCommands(ClientServerConnection.java:182)\n\tat py4j.ClientServerConnection.run(ClientServerConnection.java:106)\n\tat java.base/java.lang.Thread.run(Thread.java:829)\nCaused by: org.apache.spark.SparkException: [FAILED_EXECUTE_UDF] Failed to execute user defined function (`VectorAssembler$$Lambda$4202/0x00000008417a4040`: (struct<DISTANCE:double,CRS_DEP_TIME_double_VectorAssembler_32ec3d3ddbd1:double,Month_double_VectorAssembler_32ec3d3ddbd1:double,Year_double_VectorAssembler_32ec3d3ddbd1:double,DEP_DELAY:double,TAXI_OUT:double,TAXI_IN:double,DELAY_DUE_CARRIER:double,DELAY_DUE_WEATHER:double>) => struct<type:tinyint,size:int,indices:array<int>,values:array<double>>).\n\tat org.apache.spark.sql.errors.QueryExecutionErrors$.failedExecuteUserDefinedFunctionError(QueryExecutionErrors.scala:198)\n\tat org.apache.spark.sql.errors.QueryExecutionErrors.failedExecuteUserDefinedFunctionError(QueryExecutionErrors.scala)\n\tat org.apache.spark.sql.catalyst.expressions.GeneratedClass$GeneratedIteratorForCodegenStage1.processNext(Unknown Source)\n\tat org.apache.spark.sql.execution.BufferedRowIterator.hasNext(BufferedRowIterator.java:43)\n\tat org.apache.spark.sql.execution.WholeStageCodegenEvaluatorFactory$WholeStageCodegenPartitionEvaluator$$anon$1.hasNext(WholeStageCodegenEvaluatorFactory.scala:43)\n\tat scala.collection.Iterator$$anon$10.hasNext(Iterator.scala:460)\n\tat scala.collection.Iterator$$anon$10.hasNext(Iterator.scala:460)\n\tat scala.collection.Iterator$$anon$10.hasNext(Iterator.scala:460)\n\tat scala.collection.Iterator.foreach(Iterator.scala:943)\n\tat scala.collection.Iterator.foreach$(Iterator.scala:943)\n\tat scala.collection.AbstractIterator.foreach(Iterator.scala:1431)\n\tat scala.collection.TraversableOnce.foldLeft(TraversableOnce.scala:199)\n\tat scala.collection.TraversableOnce.foldLeft$(TraversableOnce.scala:192)\n\tat scala.collection.AbstractIterator.foldLeft(Iterator.scala:1431)\n\tat scala.collection.TraversableOnce.aggregate(TraversableOnce.scala:260)\n\tat scala.collection.TraversableOnce.aggregate$(TraversableOnce.scala:260)\n\tat scala.collection.AbstractIterator.aggregate(Iterator.scala:1431)\n\tat org.apache.spark.rdd.RDD.$anonfun$treeAggregate$4(RDD.scala:1264)\n\tat org.apache.spark.rdd.RDD.$anonfun$treeAggregate$6(RDD.scala:1265)\n\tat org.apache.spark.rdd.RDD.$anonfun$mapPartitions$2(RDD.scala:858)\n\tat org.apache.spark.rdd.RDD.$anonfun$mapPartitions$2$adapted(RDD.scala:858)\n\tat org.apache.spark.rdd.MapPartitionsRDD.compute(MapPartitionsRDD.scala:52)\n\tat org.apache.spark.rdd.RDD.computeOrReadCheckpoint(RDD.scala:367)\n\tat org.apache.spark.rdd.RDD.iterator(RDD.scala:331)\n\tat org.apache.spark.scheduler.ResultTask.runTask(ResultTask.scala:93)\n\tat org.apache.spark.TaskContext.runTaskWithListeners(TaskContext.scala:166)\n\tat org.apache.spark.scheduler.Task.run(Task.scala:141)\n\tat org.apache.spark.executor.Executor$TaskRunner.$anonfun$run$4(Executor.scala:620)\n\tat org.apache.spark.util.SparkErrorUtils.tryWithSafeFinally(SparkErrorUtils.scala:64)\n\tat org.apache.spark.util.SparkErrorUtils.tryWithSafeFinally$(SparkErrorUtils.scala:61)\n\tat org.apache.spark.util.Utils$.tryWithSafeFinally(Utils.scala:94)\n\tat org.apache.spark.executor.Executor$TaskRunner.run(Executor.scala:623)\n\tat java.base/java.util.concurrent.ThreadPoolExecutor.runWorker(ThreadPoolExecutor.java:1128)\n\tat java.base/java.util.concurrent.ThreadPoolExecutor$Worker.run(ThreadPoolExecutor.java:628)\n\t... 1 more\nCaused by: org.apache.spark.SparkException: Encountered null while assembling a row with handleInvalid = \"error\". Consider\nremoving nulls from dataset or using handleInvalid = \"keep\" or \"skip\".\n\tat org.apache.spark.ml.feature.VectorAssembler$.$anonfun$assemble$1(VectorAssembler.scala:291)\n\tat org.apache.spark.ml.feature.VectorAssembler$.$anonfun$assemble$1$adapted(VectorAssembler.scala:260)\n\tat scala.collection.IndexedSeqOptimized.foreach(IndexedSeqOptimized.scala:36)\n\tat scala.collection.IndexedSeqOptimized.foreach$(IndexedSeqOptimized.scala:33)\n\tat scala.collection.mutable.WrappedArray.foreach(WrappedArray.scala:38)\n\tat org.apache.spark.ml.feature.VectorAssembler$.assemble(VectorAssembler.scala:260)\n\tat org.apache.spark.ml.feature.VectorAssembler.$anonfun$transform$6(VectorAssembler.scala:143)\n\t... 33 more\n",
          "traceback": [
            "\u001b[0;31m---------------------------------------------------------------------------\u001b[0m",
            "\u001b[0;31mPy4JJavaError\u001b[0m                             Traceback (most recent call last)",
            "\u001b[0;32m<ipython-input-79-2e5d7e12d4e4>\u001b[0m in \u001b[0;36m<cell line: 12>\u001b[0;34m()\u001b[0m\n\u001b[1;32m     10\u001b[0m \u001b[0;34m\u001b[0m\u001b[0m\n\u001b[1;32m     11\u001b[0m \u001b[0;31m# Step 8: Train the Model\u001b[0m\u001b[0;34m\u001b[0m\u001b[0;34m\u001b[0m\u001b[0m\n\u001b[0;32m---> 12\u001b[0;31m \u001b[0mmodel\u001b[0m \u001b[0;34m=\u001b[0m \u001b[0mpipeline\u001b[0m\u001b[0;34m.\u001b[0m\u001b[0mfit\u001b[0m\u001b[0;34m(\u001b[0m\u001b[0mtrain_data\u001b[0m\u001b[0;34m)\u001b[0m\u001b[0;34m\u001b[0m\u001b[0;34m\u001b[0m\u001b[0m\n\u001b[0m",
            "\u001b[0;32m/usr/local/lib/python3.10/dist-packages/pyspark/ml/base.py\u001b[0m in \u001b[0;36mfit\u001b[0;34m(self, dataset, params)\u001b[0m\n\u001b[1;32m    203\u001b[0m                 \u001b[0;32mreturn\u001b[0m \u001b[0mself\u001b[0m\u001b[0;34m.\u001b[0m\u001b[0mcopy\u001b[0m\u001b[0;34m(\u001b[0m\u001b[0mparams\u001b[0m\u001b[0;34m)\u001b[0m\u001b[0;34m.\u001b[0m\u001b[0m_fit\u001b[0m\u001b[0;34m(\u001b[0m\u001b[0mdataset\u001b[0m\u001b[0;34m)\u001b[0m\u001b[0;34m\u001b[0m\u001b[0;34m\u001b[0m\u001b[0m\n\u001b[1;32m    204\u001b[0m             \u001b[0;32melse\u001b[0m\u001b[0;34m:\u001b[0m\u001b[0;34m\u001b[0m\u001b[0;34m\u001b[0m\u001b[0m\n\u001b[0;32m--> 205\u001b[0;31m                 \u001b[0;32mreturn\u001b[0m \u001b[0mself\u001b[0m\u001b[0;34m.\u001b[0m\u001b[0m_fit\u001b[0m\u001b[0;34m(\u001b[0m\u001b[0mdataset\u001b[0m\u001b[0;34m)\u001b[0m\u001b[0;34m\u001b[0m\u001b[0;34m\u001b[0m\u001b[0m\n\u001b[0m\u001b[1;32m    206\u001b[0m         \u001b[0;32melse\u001b[0m\u001b[0;34m:\u001b[0m\u001b[0;34m\u001b[0m\u001b[0;34m\u001b[0m\u001b[0m\n\u001b[1;32m    207\u001b[0m             raise TypeError(\n",
            "\u001b[0;32m/usr/local/lib/python3.10/dist-packages/pyspark/ml/pipeline.py\u001b[0m in \u001b[0;36m_fit\u001b[0;34m(self, dataset)\u001b[0m\n\u001b[1;32m    132\u001b[0m                     \u001b[0mdataset\u001b[0m \u001b[0;34m=\u001b[0m \u001b[0mstage\u001b[0m\u001b[0;34m.\u001b[0m\u001b[0mtransform\u001b[0m\u001b[0;34m(\u001b[0m\u001b[0mdataset\u001b[0m\u001b[0;34m)\u001b[0m\u001b[0;34m\u001b[0m\u001b[0;34m\u001b[0m\u001b[0m\n\u001b[1;32m    133\u001b[0m                 \u001b[0;32melse\u001b[0m\u001b[0;34m:\u001b[0m  \u001b[0;31m# must be an Estimator\u001b[0m\u001b[0;34m\u001b[0m\u001b[0;34m\u001b[0m\u001b[0m\n\u001b[0;32m--> 134\u001b[0;31m                     \u001b[0mmodel\u001b[0m \u001b[0;34m=\u001b[0m \u001b[0mstage\u001b[0m\u001b[0;34m.\u001b[0m\u001b[0mfit\u001b[0m\u001b[0;34m(\u001b[0m\u001b[0mdataset\u001b[0m\u001b[0;34m)\u001b[0m\u001b[0;34m\u001b[0m\u001b[0;34m\u001b[0m\u001b[0m\n\u001b[0m\u001b[1;32m    135\u001b[0m                     \u001b[0mtransformers\u001b[0m\u001b[0;34m.\u001b[0m\u001b[0mappend\u001b[0m\u001b[0;34m(\u001b[0m\u001b[0mmodel\u001b[0m\u001b[0;34m)\u001b[0m\u001b[0;34m\u001b[0m\u001b[0;34m\u001b[0m\u001b[0m\n\u001b[1;32m    136\u001b[0m                     \u001b[0;32mif\u001b[0m \u001b[0mi\u001b[0m \u001b[0;34m<\u001b[0m \u001b[0mindexOfLastEstimator\u001b[0m\u001b[0;34m:\u001b[0m\u001b[0;34m\u001b[0m\u001b[0;34m\u001b[0m\u001b[0m\n",
            "\u001b[0;32m/usr/local/lib/python3.10/dist-packages/pyspark/ml/base.py\u001b[0m in \u001b[0;36mfit\u001b[0;34m(self, dataset, params)\u001b[0m\n\u001b[1;32m    203\u001b[0m                 \u001b[0;32mreturn\u001b[0m \u001b[0mself\u001b[0m\u001b[0;34m.\u001b[0m\u001b[0mcopy\u001b[0m\u001b[0;34m(\u001b[0m\u001b[0mparams\u001b[0m\u001b[0;34m)\u001b[0m\u001b[0;34m.\u001b[0m\u001b[0m_fit\u001b[0m\u001b[0;34m(\u001b[0m\u001b[0mdataset\u001b[0m\u001b[0;34m)\u001b[0m\u001b[0;34m\u001b[0m\u001b[0;34m\u001b[0m\u001b[0m\n\u001b[1;32m    204\u001b[0m             \u001b[0;32melse\u001b[0m\u001b[0;34m:\u001b[0m\u001b[0;34m\u001b[0m\u001b[0;34m\u001b[0m\u001b[0m\n\u001b[0;32m--> 205\u001b[0;31m                 \u001b[0;32mreturn\u001b[0m \u001b[0mself\u001b[0m\u001b[0;34m.\u001b[0m\u001b[0m_fit\u001b[0m\u001b[0;34m(\u001b[0m\u001b[0mdataset\u001b[0m\u001b[0;34m)\u001b[0m\u001b[0;34m\u001b[0m\u001b[0;34m\u001b[0m\u001b[0m\n\u001b[0m\u001b[1;32m    206\u001b[0m         \u001b[0;32melse\u001b[0m\u001b[0;34m:\u001b[0m\u001b[0;34m\u001b[0m\u001b[0;34m\u001b[0m\u001b[0m\n\u001b[1;32m    207\u001b[0m             raise TypeError(\n",
            "\u001b[0;32m/usr/local/lib/python3.10/dist-packages/pyspark/ml/wrapper.py\u001b[0m in \u001b[0;36m_fit\u001b[0;34m(self, dataset)\u001b[0m\n\u001b[1;32m    379\u001b[0m \u001b[0;34m\u001b[0m\u001b[0m\n\u001b[1;32m    380\u001b[0m     \u001b[0;32mdef\u001b[0m \u001b[0m_fit\u001b[0m\u001b[0;34m(\u001b[0m\u001b[0mself\u001b[0m\u001b[0;34m,\u001b[0m \u001b[0mdataset\u001b[0m\u001b[0;34m:\u001b[0m \u001b[0mDataFrame\u001b[0m\u001b[0;34m)\u001b[0m \u001b[0;34m->\u001b[0m \u001b[0mJM\u001b[0m\u001b[0;34m:\u001b[0m\u001b[0;34m\u001b[0m\u001b[0;34m\u001b[0m\u001b[0m\n\u001b[0;32m--> 381\u001b[0;31m         \u001b[0mjava_model\u001b[0m \u001b[0;34m=\u001b[0m \u001b[0mself\u001b[0m\u001b[0;34m.\u001b[0m\u001b[0m_fit_java\u001b[0m\u001b[0;34m(\u001b[0m\u001b[0mdataset\u001b[0m\u001b[0;34m)\u001b[0m\u001b[0;34m\u001b[0m\u001b[0;34m\u001b[0m\u001b[0m\n\u001b[0m\u001b[1;32m    382\u001b[0m         \u001b[0mmodel\u001b[0m \u001b[0;34m=\u001b[0m \u001b[0mself\u001b[0m\u001b[0;34m.\u001b[0m\u001b[0m_create_model\u001b[0m\u001b[0;34m(\u001b[0m\u001b[0mjava_model\u001b[0m\u001b[0;34m)\u001b[0m\u001b[0;34m\u001b[0m\u001b[0;34m\u001b[0m\u001b[0m\n\u001b[1;32m    383\u001b[0m         \u001b[0;32mreturn\u001b[0m \u001b[0mself\u001b[0m\u001b[0;34m.\u001b[0m\u001b[0m_copyValues\u001b[0m\u001b[0;34m(\u001b[0m\u001b[0mmodel\u001b[0m\u001b[0;34m)\u001b[0m\u001b[0;34m\u001b[0m\u001b[0;34m\u001b[0m\u001b[0m\n",
            "\u001b[0;32m/usr/local/lib/python3.10/dist-packages/pyspark/ml/wrapper.py\u001b[0m in \u001b[0;36m_fit_java\u001b[0;34m(self, dataset)\u001b[0m\n\u001b[1;32m    376\u001b[0m \u001b[0;34m\u001b[0m\u001b[0m\n\u001b[1;32m    377\u001b[0m         \u001b[0mself\u001b[0m\u001b[0;34m.\u001b[0m\u001b[0m_transfer_params_to_java\u001b[0m\u001b[0;34m(\u001b[0m\u001b[0;34m)\u001b[0m\u001b[0;34m\u001b[0m\u001b[0;34m\u001b[0m\u001b[0m\n\u001b[0;32m--> 378\u001b[0;31m         \u001b[0;32mreturn\u001b[0m \u001b[0mself\u001b[0m\u001b[0;34m.\u001b[0m\u001b[0m_java_obj\u001b[0m\u001b[0;34m.\u001b[0m\u001b[0mfit\u001b[0m\u001b[0;34m(\u001b[0m\u001b[0mdataset\u001b[0m\u001b[0;34m.\u001b[0m\u001b[0m_jdf\u001b[0m\u001b[0;34m)\u001b[0m\u001b[0;34m\u001b[0m\u001b[0;34m\u001b[0m\u001b[0m\n\u001b[0m\u001b[1;32m    379\u001b[0m \u001b[0;34m\u001b[0m\u001b[0m\n\u001b[1;32m    380\u001b[0m     \u001b[0;32mdef\u001b[0m \u001b[0m_fit\u001b[0m\u001b[0;34m(\u001b[0m\u001b[0mself\u001b[0m\u001b[0;34m,\u001b[0m \u001b[0mdataset\u001b[0m\u001b[0;34m:\u001b[0m \u001b[0mDataFrame\u001b[0m\u001b[0;34m)\u001b[0m \u001b[0;34m->\u001b[0m \u001b[0mJM\u001b[0m\u001b[0;34m:\u001b[0m\u001b[0;34m\u001b[0m\u001b[0;34m\u001b[0m\u001b[0m\n",
            "\u001b[0;32m/usr/local/lib/python3.10/dist-packages/py4j/java_gateway.py\u001b[0m in \u001b[0;36m__call__\u001b[0;34m(self, *args)\u001b[0m\n\u001b[1;32m   1320\u001b[0m \u001b[0;34m\u001b[0m\u001b[0m\n\u001b[1;32m   1321\u001b[0m         \u001b[0manswer\u001b[0m \u001b[0;34m=\u001b[0m \u001b[0mself\u001b[0m\u001b[0;34m.\u001b[0m\u001b[0mgateway_client\u001b[0m\u001b[0;34m.\u001b[0m\u001b[0msend_command\u001b[0m\u001b[0;34m(\u001b[0m\u001b[0mcommand\u001b[0m\u001b[0;34m)\u001b[0m\u001b[0;34m\u001b[0m\u001b[0;34m\u001b[0m\u001b[0m\n\u001b[0;32m-> 1322\u001b[0;31m         return_value = get_return_value(\n\u001b[0m\u001b[1;32m   1323\u001b[0m             answer, self.gateway_client, self.target_id, self.name)\n\u001b[1;32m   1324\u001b[0m \u001b[0;34m\u001b[0m\u001b[0m\n",
            "\u001b[0;32m/usr/local/lib/python3.10/dist-packages/pyspark/errors/exceptions/captured.py\u001b[0m in \u001b[0;36mdeco\u001b[0;34m(*a, **kw)\u001b[0m\n\u001b[1;32m    177\u001b[0m     \u001b[0;32mdef\u001b[0m \u001b[0mdeco\u001b[0m\u001b[0;34m(\u001b[0m\u001b[0;34m*\u001b[0m\u001b[0ma\u001b[0m\u001b[0;34m:\u001b[0m \u001b[0mAny\u001b[0m\u001b[0;34m,\u001b[0m \u001b[0;34m**\u001b[0m\u001b[0mkw\u001b[0m\u001b[0;34m:\u001b[0m \u001b[0mAny\u001b[0m\u001b[0;34m)\u001b[0m \u001b[0;34m->\u001b[0m \u001b[0mAny\u001b[0m\u001b[0;34m:\u001b[0m\u001b[0;34m\u001b[0m\u001b[0;34m\u001b[0m\u001b[0m\n\u001b[1;32m    178\u001b[0m         \u001b[0;32mtry\u001b[0m\u001b[0;34m:\u001b[0m\u001b[0;34m\u001b[0m\u001b[0;34m\u001b[0m\u001b[0m\n\u001b[0;32m--> 179\u001b[0;31m             \u001b[0;32mreturn\u001b[0m \u001b[0mf\u001b[0m\u001b[0;34m(\u001b[0m\u001b[0;34m*\u001b[0m\u001b[0ma\u001b[0m\u001b[0;34m,\u001b[0m \u001b[0;34m**\u001b[0m\u001b[0mkw\u001b[0m\u001b[0;34m)\u001b[0m\u001b[0;34m\u001b[0m\u001b[0;34m\u001b[0m\u001b[0m\n\u001b[0m\u001b[1;32m    180\u001b[0m         \u001b[0;32mexcept\u001b[0m \u001b[0mPy4JJavaError\u001b[0m \u001b[0;32mas\u001b[0m \u001b[0me\u001b[0m\u001b[0;34m:\u001b[0m\u001b[0;34m\u001b[0m\u001b[0;34m\u001b[0m\u001b[0m\n\u001b[1;32m    181\u001b[0m             \u001b[0mconverted\u001b[0m \u001b[0;34m=\u001b[0m \u001b[0mconvert_exception\u001b[0m\u001b[0;34m(\u001b[0m\u001b[0me\u001b[0m\u001b[0;34m.\u001b[0m\u001b[0mjava_exception\u001b[0m\u001b[0;34m)\u001b[0m\u001b[0;34m\u001b[0m\u001b[0;34m\u001b[0m\u001b[0m\n",
            "\u001b[0;32m/usr/local/lib/python3.10/dist-packages/py4j/protocol.py\u001b[0m in \u001b[0;36mget_return_value\u001b[0;34m(answer, gateway_client, target_id, name)\u001b[0m\n\u001b[1;32m    324\u001b[0m             \u001b[0mvalue\u001b[0m \u001b[0;34m=\u001b[0m \u001b[0mOUTPUT_CONVERTER\u001b[0m\u001b[0;34m[\u001b[0m\u001b[0mtype\u001b[0m\u001b[0;34m]\u001b[0m\u001b[0;34m(\u001b[0m\u001b[0manswer\u001b[0m\u001b[0;34m[\u001b[0m\u001b[0;36m2\u001b[0m\u001b[0;34m:\u001b[0m\u001b[0;34m]\u001b[0m\u001b[0;34m,\u001b[0m \u001b[0mgateway_client\u001b[0m\u001b[0;34m)\u001b[0m\u001b[0;34m\u001b[0m\u001b[0;34m\u001b[0m\u001b[0m\n\u001b[1;32m    325\u001b[0m             \u001b[0;32mif\u001b[0m \u001b[0manswer\u001b[0m\u001b[0;34m[\u001b[0m\u001b[0;36m1\u001b[0m\u001b[0;34m]\u001b[0m \u001b[0;34m==\u001b[0m \u001b[0mREFERENCE_TYPE\u001b[0m\u001b[0;34m:\u001b[0m\u001b[0;34m\u001b[0m\u001b[0;34m\u001b[0m\u001b[0m\n\u001b[0;32m--> 326\u001b[0;31m                 raise Py4JJavaError(\n\u001b[0m\u001b[1;32m    327\u001b[0m                     \u001b[0;34m\"An error occurred while calling {0}{1}{2}.\\n\"\u001b[0m\u001b[0;34m.\u001b[0m\u001b[0;34m\u001b[0m\u001b[0;34m\u001b[0m\u001b[0m\n\u001b[1;32m    328\u001b[0m                     format(target_id, \".\", name), value)\n",
            "\u001b[0;31mPy4JJavaError\u001b[0m: An error occurred while calling o1154.fit.\n: org.apache.spark.SparkException: Job aborted due to stage failure: Task 1 in stage 145.0 failed 1 times, most recent failure: Lost task 1.0 in stage 145.0 (TID 279) (f521a0e0742f executor driver): org.apache.spark.SparkException: [FAILED_EXECUTE_UDF] Failed to execute user defined function (`VectorAssembler$$Lambda$4202/0x00000008417a4040`: (struct<DISTANCE:double,CRS_DEP_TIME_double_VectorAssembler_32ec3d3ddbd1:double,Month_double_VectorAssembler_32ec3d3ddbd1:double,Year_double_VectorAssembler_32ec3d3ddbd1:double,DEP_DELAY:double,TAXI_OUT:double,TAXI_IN:double,DELAY_DUE_CARRIER:double,DELAY_DUE_WEATHER:double>) => struct<type:tinyint,size:int,indices:array<int>,values:array<double>>).\n\tat org.apache.spark.sql.errors.QueryExecutionErrors$.failedExecuteUserDefinedFunctionError(QueryExecutionErrors.scala:198)\n\tat org.apache.spark.sql.errors.QueryExecutionErrors.failedExecuteUserDefinedFunctionError(QueryExecutionErrors.scala)\n\tat org.apache.spark.sql.catalyst.expressions.GeneratedClass$GeneratedIteratorForCodegenStage1.processNext(Unknown Source)\n\tat org.apache.spark.sql.execution.BufferedRowIterator.hasNext(BufferedRowIterator.java:43)\n\tat org.apache.spark.sql.execution.WholeStageCodegenEvaluatorFactory$WholeStageCodegenPartitionEvaluator$$anon$1.hasNext(WholeStageCodegenEvaluatorFactory.scala:43)\n\tat scala.collection.Iterator$$anon$10.hasNext(Iterator.scala:460)\n\tat scala.collection.Iterator$$anon$10.hasNext(Iterator.scala:460)\n\tat scala.collection.Iterator$$anon$10.hasNext(Iterator.scala:460)\n\tat scala.collection.Iterator.foreach(Iterator.scala:943)\n\tat scala.collection.Iterator.foreach$(Iterator.scala:943)\n\tat scala.collection.AbstractIterator.foreach(Iterator.scala:1431)\n\tat scala.collection.TraversableOnce.foldLeft(TraversableOnce.scala:199)\n\tat scala.collection.TraversableOnce.foldLeft$(TraversableOnce.scala:192)\n\tat scala.collection.AbstractIterator.foldLeft(Iterator.scala:1431)\n\tat scala.collection.TraversableOnce.aggregate(TraversableOnce.scala:260)\n\tat scala.collection.TraversableOnce.aggregate$(TraversableOnce.scala:260)\n\tat scala.collection.AbstractIterator.aggregate(Iterator.scala:1431)\n\tat org.apache.spark.rdd.RDD.$anonfun$treeAggregate$4(RDD.scala:1264)\n\tat org.apache.spark.rdd.RDD.$anonfun$treeAggregate$6(RDD.scala:1265)\n\tat org.apache.spark.rdd.RDD.$anonfun$mapPartitions$2(RDD.scala:858)\n\tat org.apache.spark.rdd.RDD.$anonfun$mapPartitions$2$adapted(RDD.scala:858)\n\tat org.apache.spark.rdd.MapPartitionsRDD.compute(MapPartitionsRDD.scala:52)\n\tat org.apache.spark.rdd.RDD.computeOrReadCheckpoint(RDD.scala:367)\n\tat org.apache.spark.rdd.RDD.iterator(RDD.scala:331)\n\tat org.apache.spark.scheduler.ResultTask.runTask(ResultTask.scala:93)\n\tat org.apache.spark.TaskContext.runTaskWithListeners(TaskContext.scala:166)\n\tat org.apache.spark.scheduler.Task.run(Task.scala:141)\n\tat org.apache.spark.executor.Executor$TaskRunner.$anonfun$run$4(Executor.scala:620)\n\tat org.apache.spark.util.SparkErrorUtils.tryWithSafeFinally(SparkErrorUtils.scala:64)\n\tat org.apache.spark.util.SparkErrorUtils.tryWithSafeFinally$(SparkErrorUtils.scala:61)\n\tat org.apache.spark.util.Utils$.tryWithSafeFinally(Utils.scala:94)\n\tat org.apache.spark.executor.Executor$TaskRunner.run(Executor.scala:623)\n\tat java.base/java.util.concurrent.ThreadPoolExecutor.runWorker(ThreadPoolExecutor.java:1128)\n\tat java.base/java.util.concurrent.ThreadPoolExecutor$Worker.run(ThreadPoolExecutor.java:628)\n\tat java.base/java.lang.Thread.run(Thread.java:829)\nCaused by: org.apache.spark.SparkException: Encountered null while assembling a row with handleInvalid = \"error\". Consider\nremoving nulls from dataset or using handleInvalid = \"keep\" or \"skip\".\n\tat org.apache.spark.ml.feature.VectorAssembler$.$anonfun$assemble$1(VectorAssembler.scala:291)\n\tat org.apache.spark.ml.feature.VectorAssembler$.$anonfun$assemble$1$adapted(VectorAssembler.scala:260)\n\tat scala.collection.IndexedSeqOptimized.foreach(IndexedSeqOptimized.scala:36)\n\tat scala.collection.IndexedSeqOptimized.foreach$(IndexedSeqOptimized.scala:33)\n\tat scala.collection.mutable.WrappedArray.foreach(WrappedArray.scala:38)\n\tat org.apache.spark.ml.feature.VectorAssembler$.assemble(VectorAssembler.scala:260)\n\tat org.apache.spark.ml.feature.VectorAssembler.$anonfun$transform$6(VectorAssembler.scala:143)\n\t... 33 more\n\nDriver stacktrace:\n\tat org.apache.spark.scheduler.DAGScheduler.failJobAndIndependentStages(DAGScheduler.scala:2856)\n\tat org.apache.spark.scheduler.DAGScheduler.$anonfun$abortStage$2(DAGScheduler.scala:2792)\n\tat org.apache.spark.scheduler.DAGScheduler.$anonfun$abortStage$2$adapted(DAGScheduler.scala:2791)\n\tat scala.collection.mutable.ResizableArray.foreach(ResizableArray.scala:62)\n\tat scala.collection.mutable.ResizableArray.foreach$(ResizableArray.scala:55)\n\tat scala.collection.mutable.ArrayBuffer.foreach(ArrayBuffer.scala:49)\n\tat org.apache.spark.scheduler.DAGScheduler.abortStage(DAGScheduler.scala:2791)\n\tat org.apache.spark.scheduler.DAGScheduler.$anonfun$handleTaskSetFailed$1(DAGScheduler.scala:1247)\n\tat org.apache.spark.scheduler.DAGScheduler.$anonfun$handleTaskSetFailed$1$adapted(DAGScheduler.scala:1247)\n\tat scala.Option.foreach(Option.scala:407)\n\tat org.apache.spark.scheduler.DAGScheduler.handleTaskSetFailed(DAGScheduler.scala:1247)\n\tat org.apache.spark.scheduler.DAGSchedulerEventProcessLoop.doOnReceive(DAGScheduler.scala:3060)\n\tat org.apache.spark.scheduler.DAGSchedulerEventProcessLoop.onReceive(DAGScheduler.scala:2994)\n\tat org.apache.spark.scheduler.DAGSchedulerEventProcessLoop.onReceive(DAGScheduler.scala:2983)\n\tat org.apache.spark.util.EventLoop$$anon$1.run(EventLoop.scala:49)\n\tat org.apache.spark.scheduler.DAGScheduler.runJob(DAGScheduler.scala:989)\n\tat org.apache.spark.SparkContext.runJob(SparkContext.scala:2393)\n\tat org.apache.spark.SparkContext.runJob(SparkContext.scala:2488)\n\tat org.apache.spark.rdd.RDD.$anonfun$fold$1(RDD.scala:1202)\n\tat org.apache.spark.rdd.RDDOperationScope$.withScope(RDDOperationScope.scala:151)\n\tat org.apache.spark.rdd.RDDOperationScope$.withScope(RDDOperationScope.scala:112)\n\tat org.apache.spark.rdd.RDD.withScope(RDD.scala:410)\n\tat org.apache.spark.rdd.RDD.fold(RDD.scala:1196)\n\tat org.apache.spark.rdd.RDD.$anonfun$treeAggregate$2(RDD.scala:1289)\n\tat org.apache.spark.rdd.RDDOperationScope$.withScope(RDDOperationScope.scala:151)\n\tat org.apache.spark.rdd.RDDOperationScope$.withScope(RDDOperationScope.scala:112)\n\tat org.apache.spark.rdd.RDD.withScope(RDD.scala:410)\n\tat org.apache.spark.rdd.RDD.treeAggregate(RDD.scala:1256)\n\tat org.apache.spark.rdd.RDD.$anonfun$treeAggregate$1(RDD.scala:1242)\n\tat org.apache.spark.rdd.RDDOperationScope$.withScope(RDDOperationScope.scala:151)\n\tat org.apache.spark.rdd.RDDOperationScope$.withScope(RDDOperationScope.scala:112)\n\tat org.apache.spark.rdd.RDD.withScope(RDD.scala:410)\n\tat org.apache.spark.rdd.RDD.treeAggregate(RDD.scala:1242)\n\tat org.apache.spark.ml.stat.Summarizer$.getClassificationSummarizers(Summarizer.scala:233)\n\tat org.apache.spark.ml.classification.LogisticRegression.$anonfun$train$1(LogisticRegression.scala:517)\n\tat org.apache.spark.ml.util.Instrumentation$.$anonfun$instrumented$1(Instrumentation.scala:191)\n\tat scala.util.Try$.apply(Try.scala:213)\n\tat org.apache.spark.ml.util.Instrumentation$.instrumented(Instrumentation.scala:191)\n\tat org.apache.spark.ml.classification.LogisticRegression.train(LogisticRegression.scala:497)\n\tat org.apache.spark.ml.classification.LogisticRegression.train(LogisticRegression.scala:287)\n\tat org.apache.spark.ml.Predictor.fit(Predictor.scala:114)\n\tat org.apache.spark.ml.Predictor.fit(Predictor.scala:78)\n\tat java.base/jdk.internal.reflect.NativeMethodAccessorImpl.invoke0(Native Method)\n\tat java.base/jdk.internal.reflect.NativeMethodAccessorImpl.invoke(NativeMethodAccessorImpl.java:62)\n\tat java.base/jdk.internal.reflect.DelegatingMethodAccessorImpl.invoke(DelegatingMethodAccessorImpl.java:43)\n\tat java.base/java.lang.reflect.Method.invoke(Method.java:566)\n\tat py4j.reflection.MethodInvoker.invoke(MethodInvoker.java:244)\n\tat py4j.reflection.ReflectionEngine.invoke(ReflectionEngine.java:374)\n\tat py4j.Gateway.invoke(Gateway.java:282)\n\tat py4j.commands.AbstractCommand.invokeMethod(AbstractCommand.java:132)\n\tat py4j.commands.CallCommand.execute(CallCommand.java:79)\n\tat py4j.ClientServerConnection.waitForCommands(ClientServerConnection.java:182)\n\tat py4j.ClientServerConnection.run(ClientServerConnection.java:106)\n\tat java.base/java.lang.Thread.run(Thread.java:829)\nCaused by: org.apache.spark.SparkException: [FAILED_EXECUTE_UDF] Failed to execute user defined function (`VectorAssembler$$Lambda$4202/0x00000008417a4040`: (struct<DISTANCE:double,CRS_DEP_TIME_double_VectorAssembler_32ec3d3ddbd1:double,Month_double_VectorAssembler_32ec3d3ddbd1:double,Year_double_VectorAssembler_32ec3d3ddbd1:double,DEP_DELAY:double,TAXI_OUT:double,TAXI_IN:double,DELAY_DUE_CARRIER:double,DELAY_DUE_WEATHER:double>) => struct<type:tinyint,size:int,indices:array<int>,values:array<double>>).\n\tat org.apache.spark.sql.errors.QueryExecutionErrors$.failedExecuteUserDefinedFunctionError(QueryExecutionErrors.scala:198)\n\tat org.apache.spark.sql.errors.QueryExecutionErrors.failedExecuteUserDefinedFunctionError(QueryExecutionErrors.scala)\n\tat org.apache.spark.sql.catalyst.expressions.GeneratedClass$GeneratedIteratorForCodegenStage1.processNext(Unknown Source)\n\tat org.apache.spark.sql.execution.BufferedRowIterator.hasNext(BufferedRowIterator.java:43)\n\tat org.apache.spark.sql.execution.WholeStageCodegenEvaluatorFactory$WholeStageCodegenPartitionEvaluator$$anon$1.hasNext(WholeStageCodegenEvaluatorFactory.scala:43)\n\tat scala.collection.Iterator$$anon$10.hasNext(Iterator.scala:460)\n\tat scala.collection.Iterator$$anon$10.hasNext(Iterator.scala:460)\n\tat scala.collection.Iterator$$anon$10.hasNext(Iterator.scala:460)\n\tat scala.collection.Iterator.foreach(Iterator.scala:943)\n\tat scala.collection.Iterator.foreach$(Iterator.scala:943)\n\tat scala.collection.AbstractIterator.foreach(Iterator.scala:1431)\n\tat scala.collection.TraversableOnce.foldLeft(TraversableOnce.scala:199)\n\tat scala.collection.TraversableOnce.foldLeft$(TraversableOnce.scala:192)\n\tat scala.collection.AbstractIterator.foldLeft(Iterator.scala:1431)\n\tat scala.collection.TraversableOnce.aggregate(TraversableOnce.scala:260)\n\tat scala.collection.TraversableOnce.aggregate$(TraversableOnce.scala:260)\n\tat scala.collection.AbstractIterator.aggregate(Iterator.scala:1431)\n\tat org.apache.spark.rdd.RDD.$anonfun$treeAggregate$4(RDD.scala:1264)\n\tat org.apache.spark.rdd.RDD.$anonfun$treeAggregate$6(RDD.scala:1265)\n\tat org.apache.spark.rdd.RDD.$anonfun$mapPartitions$2(RDD.scala:858)\n\tat org.apache.spark.rdd.RDD.$anonfun$mapPartitions$2$adapted(RDD.scala:858)\n\tat org.apache.spark.rdd.MapPartitionsRDD.compute(MapPartitionsRDD.scala:52)\n\tat org.apache.spark.rdd.RDD.computeOrReadCheckpoint(RDD.scala:367)\n\tat org.apache.spark.rdd.RDD.iterator(RDD.scala:331)\n\tat org.apache.spark.scheduler.ResultTask.runTask(ResultTask.scala:93)\n\tat org.apache.spark.TaskContext.runTaskWithListeners(TaskContext.scala:166)\n\tat org.apache.spark.scheduler.Task.run(Task.scala:141)\n\tat org.apache.spark.executor.Executor$TaskRunner.$anonfun$run$4(Executor.scala:620)\n\tat org.apache.spark.util.SparkErrorUtils.tryWithSafeFinally(SparkErrorUtils.scala:64)\n\tat org.apache.spark.util.SparkErrorUtils.tryWithSafeFinally$(SparkErrorUtils.scala:61)\n\tat org.apache.spark.util.Utils$.tryWithSafeFinally(Utils.scala:94)\n\tat org.apache.spark.executor.Executor$TaskRunner.run(Executor.scala:623)\n\tat java.base/java.util.concurrent.ThreadPoolExecutor.runWorker(ThreadPoolExecutor.java:1128)\n\tat java.base/java.util.concurrent.ThreadPoolExecutor$Worker.run(ThreadPoolExecutor.java:628)\n\t... 1 more\nCaused by: org.apache.spark.SparkException: Encountered null while assembling a row with handleInvalid = \"error\". Consider\nremoving nulls from dataset or using handleInvalid = \"keep\" or \"skip\".\n\tat org.apache.spark.ml.feature.VectorAssembler$.$anonfun$assemble$1(VectorAssembler.scala:291)\n\tat org.apache.spark.ml.feature.VectorAssembler$.$anonfun$assemble$1$adapted(VectorAssembler.scala:260)\n\tat scala.collection.IndexedSeqOptimized.foreach(IndexedSeqOptimized.scala:36)\n\tat scala.collection.IndexedSeqOptimized.foreach$(IndexedSeqOptimized.scala:33)\n\tat scala.collection.mutable.WrappedArray.foreach(WrappedArray.scala:38)\n\tat org.apache.spark.ml.feature.VectorAssembler$.assemble(VectorAssembler.scala:260)\n\tat org.apache.spark.ml.feature.VectorAssembler.$anonfun$transform$6(VectorAssembler.scala:143)\n\t... 33 more\n"
          ]
        }
      ]
    },
    {
      "cell_type": "markdown",
      "source": [
        "**3. Make Predictions and Evaluate the Model**\n",
        "\n",
        "We evaluate the model using metrics like AUC, classification report, and confusion matrix."
      ],
      "metadata": {
        "id": "94mNTdEkUwdX"
      }
    },
    {
      "cell_type": "code",
      "source": [
        "# Step 9: Make Predictions\n",
        "predictions = model.transform(test_data)\n",
        "\n",
        "# Step 10: Evaluate the Model\n",
        "# Calculate AUC\n",
        "evaluator = BinaryClassificationEvaluator(labelCol=\"IS_DELAYED\", metricName=\"areaUnderROC\")\n",
        "auc = evaluator.evaluate(predictions)\n",
        "print(f\"Area Under ROC (AUC): {auc}\")\n",
        "\n",
        "# Convert Predictions to Pandas for sklearn Evaluation\n",
        "predictions_df = predictions.select(\"IS_DELAYED\", \"prediction\").toPandas()\n",
        "y_true = predictions_df[\"IS_DELAYED\"]\n",
        "y_pred = predictions_df[\"prediction\"]\n",
        "\n",
        "# Classification Report\n",
        "from sklearn.metrics import classification_report, confusion_matrix, ConfusionMatrixDisplay\n",
        "print(\"Classification Report:\")\n",
        "print(classification_report(y_true, y_pred))\n",
        "\n",
        "# Confusion Matrix\n",
        "cm = confusion_matrix(y_true, y_pred, labels=[1, 0])\n",
        "disp = ConfusionMatrixDisplay(confusion_matrix=cm, display_labels=[\"Delayed (1)\", \"Not Delayed (0)\"])\n",
        "disp.plot(cmap=plt.cm.Blues, values_format=\"d\")\n",
        "plt.title(\"Confusion Matrix\")\n",
        "plt.show()\n"
      ],
      "metadata": {
        "id": "rXeo4utqbfzk"
      },
      "execution_count": null,
      "outputs": []
    },
    {
      "cell_type": "markdown",
      "source": [
        "4. Save the Model\n",
        "Save the trained model for future use."
      ],
      "metadata": {
        "id": "DfS35tyzU6J4"
      }
    },
    {
      "cell_type": "code",
      "source": [
        "# Save the trained model\n",
        "model.save(\"logistic_regression_flight_delay_model\")\n"
      ],
      "metadata": {
        "id": "0wgce5pKbihu"
      },
      "execution_count": null,
      "outputs": []
    },
    {
      "cell_type": "markdown",
      "source": [
        "## Test features selection 3 ##"
      ],
      "metadata": {
        "id": "jpfH_WFiVJAW"
      }
    },
    {
      "cell_type": "code",
      "source": [
        "selected_features = [\n",
        "    \"DISTANCE\", \"CRS_DEP_TIME\", \"Month\", \"Year\", \"DEP_DELAY\", \"TAXI_OUT\",\n",
        "    \"TAXI_IN\", \"DELAY_DUE_CARRIER\", \"DELAY_DUE_WEATHER\"\n",
        "]"
      ],
      "metadata": {
        "id": "RlUVUihU59nf"
      },
      "execution_count": null,
      "outputs": []
    },
    {
      "cell_type": "code",
      "source": [
        "from pyspark.ml.feature import VectorAssembler\n",
        "from pyspark.ml.classification import LogisticRegression\n",
        "from pyspark.ml.evaluation import BinaryClassificationEvaluator\n",
        "from pyspark.ml import Pipeline\n",
        "from pyspark.sql.functions import when, col\n",
        "\n",
        "# Step 1: Select Relevant Features\n",
        "selected_features = [\n",
        "    \"DISTANCE\", \"CRS_DEP_TIME\", \"Month\", \"Year\", \"DEP_DELAY\", \"TAXI_OUT\",\n",
        "    \"TAXI_IN\", \"DELAY_DUE_CARRIER\", \"DELAY_DUE_WEATHER\"\n",
        "]\n",
        "\n",
        "# Step 2: Assemble Features into a Single Vector (with handleInvalid=\"skip\")\n",
        "assembler = VectorAssembler(\n",
        "    inputCols=selected_features,\n",
        "    outputCol=\"features\",\n",
        "    handleInvalid=\"skip\"\n",
        ")\n",
        "\n",
        "# Step 3: Split Data into Training and Test Sets\n",
        "train_data, test_data = flights_cleaned.randomSplit([0.8, 0.2], seed=42)\n",
        "\n",
        "# Step 4: Calculate the class weight ratio\n",
        "delay_ratio = flights_cleaned.filter(col(\"IS_DELAYED\") == 1).count() / flights_cleaned.count()\n",
        "\n",
        "# Step 5: Add `class_weights` column to train_data and test_data\n",
        "train_data = train_data.withColumn(\n",
        "    \"class_weights\",\n",
        "    when(col(\"IS_DELAYED\") == 1, 1 - delay_ratio).otherwise(delay_ratio)\n",
        ")\n",
        "\n",
        "test_data = test_data.withColumn(\n",
        "    \"class_weights\",\n",
        "    when(col(\"IS_DELAYED\") == 1, 1 - delay_ratio).otherwise(delay_ratio)\n",
        ")\n",
        "\n",
        "# Step 6: Define Logistic Regression with weightCol\n",
        "lr = LogisticRegression(\n",
        "    featuresCol=\"features\",\n",
        "    labelCol=\"IS_DELAYED\",\n",
        "    weightCol=\"class_weights\"\n",
        ")\n",
        "\n",
        "# Step 7: Create a Pipeline\n",
        "pipeline = Pipeline(stages=[assembler, lr])\n",
        "\n",
        "# Step 8: Train the Model\n",
        "model = pipeline.fit(train_data)\n",
        "\n",
        "# Step 9: Make Predictions\n",
        "predictions = model.transform(test_data)\n",
        "\n",
        "# Step 10: Evaluate the Model\n",
        "# Calculate AUC\n",
        "evaluator = BinaryClassificationEvaluator(labelCol=\"IS_DELAYED\", metricName=\"areaUnderROC\")\n",
        "auc = evaluator.evaluate(predictions)\n",
        "print(f\"Area Under ROC (AUC): {auc}\")\n",
        "\n",
        "# Convert Predictions to Pandas for sklearn Evaluation\n",
        "predictions_df = predictions.select(\"IS_DELAYED\", \"prediction\").toPandas()\n",
        "y_true = predictions_df[\"IS_DELAYED\"]\n",
        "y_pred = predictions_df[\"prediction\"]\n",
        "\n",
        "# Classification Report\n",
        "from sklearn.metrics import classification_report, confusion_matrix, ConfusionMatrixDisplay\n",
        "print(\"Classification Report:\")\n",
        "print(classification_report(y_true, y_pred))\n",
        "\n",
        "# Confusion Matrix\n",
        "cm = confusion_matrix(y_true, y_pred, labels=[1, 0])\n",
        "disp = ConfusionMatrixDisplay(confusion_matrix=cm, display_labels=[\"Delayed (1)\", \"Not Delayed (0)\"])\n",
        "disp.plot(cmap=plt.cm.Blues, values_format=\"d\")\n",
        "plt.title(\"Confusion Matrix\")\n",
        "plt.show()\n"
      ],
      "metadata": {
        "colab": {
          "base_uri": "https://localhost:8080/",
          "height": 671
        },
        "id": "wpMS6ZcaeRTZ",
        "outputId": "3b2c053b-9e38-4eb9-f5b5-600d81c3c78e"
      },
      "execution_count": null,
      "outputs": [
        {
          "output_type": "stream",
          "name": "stdout",
          "text": [
            "Area Under ROC (AUC): 0.9818565862805639\n",
            "Classification Report:\n",
            "              precision    recall  f1-score   support\n",
            "\n",
            "           0       0.98      0.96      0.97    481458\n",
            "           1       0.83      0.92      0.87    102423\n",
            "\n",
            "    accuracy                           0.95    583881\n",
            "   macro avg       0.91      0.94      0.92    583881\n",
            "weighted avg       0.96      0.95      0.95    583881\n",
            "\n"
          ]
        },
        {
          "output_type": "display_data",
          "data": {
            "text/plain": [
              "<Figure size 640x480 with 2 Axes>"
            ],
            "image/png": "[encoded data removed]"
          },
          "metadata": {}
        }
      ]
    }
  ]
}